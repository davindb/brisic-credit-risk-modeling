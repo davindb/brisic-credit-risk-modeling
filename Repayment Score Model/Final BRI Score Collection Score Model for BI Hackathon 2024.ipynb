{
 "cells": [
  {
   "cell_type": "markdown",
   "id": "9c702cdf-6a6e-46d1-a27b-a8caa290fcfd",
   "metadata": {},
   "source": [
    "# BRI Score: Collection Score Model"
   ]
  },
  {
   "cell_type": "markdown",
   "id": "0f705f85-43c2-4316-81e4-c84a4471b974",
   "metadata": {},
   "source": [
    "## Import Library"
   ]
  },
  {
   "cell_type": "code",
   "execution_count": 1,
   "id": "6fdeffa3-d606-4715-9b4c-c77d10bbaafc",
   "metadata": {},
   "outputs": [
    {
     "name": "stdout",
     "output_type": "stream",
     "text": [
      "(CVXPY) Jul 29 01:17:55 PM: Encountered unexpected exception importing solver GLOP:\n",
      "RuntimeError('Unrecognized new version of ortools (9.9.3963). Expected < 9.8.0. Please open a feature request on cvxpy to enable support for this version.')\n",
      "(CVXPY) Jul 29 01:17:55 PM: Encountered unexpected exception importing solver PDLP:\n",
      "RuntimeError('Unrecognized new version of ortools (9.9.3963). Expected < 9.8.0. Please open a feature request on cvxpy to enable support for this version.')\n"
     ]
    }
   ],
   "source": [
    "import warnings\n",
    "warnings.filterwarnings('ignore')\n",
    "\n",
    "import math\n",
    "import gc\n",
    "import pandas as pd\n",
    "import numpy as np\n",
    "import matplotlib.pyplot as plt\n",
    "import seaborn as sns\n",
    "from datetime import datetime\n",
    "from datetime import timedelta\n",
    "from dateutil.relativedelta import relativedelta\n",
    "from scipy import stats\n",
    "from scipy.stats import uniform, randint\n",
    "\n",
    "from skorecard.bucketers import DecisionTreeBucketer, OptimalBucketer, EqualFrequencyBucketer, EqualWidthBucketer, AgglomerativeClusteringBucketer\n",
    "from skorecard.preprocessing import WoeEncoder\n",
    "from skorecard.pipeline import BucketingProcess\n",
    "from sklearn.pipeline import make_pipeline\n",
    "from skorecard.pipeline.pipeline import SkorecardPipeline, to_skorecard_pipeline\n",
    "from skorecard import Skorecard\n",
    "from skorecard.rescale import ScoreCardPoints\n",
    "from skorecard.bucketers import UserInputBucketer\n",
    "\n",
    "from sklearn.model_selection import GridSearchCV\n",
    "from sklearn.model_selection import RandomizedSearchCV, StratifiedKFold\n",
    "from sklearn import metrics\n",
    "from sklearn.metrics import confusion_matrix, classification_report, make_scorer, roc_curve, roc_auc_score, auc, log_loss, accuracy_score\n",
    "from statsmodels.stats.outliers_influence import variance_inflation_factor\n",
    "from sklearn.preprocessing import LabelEncoder\n",
    "from sklearn import linear_model\n",
    "from itertools import combinations\n",
    "import shap\n",
    "import time\n",
    "import re\n",
    "import pickle\n",
    "import joblib\n",
    "from openpyxl import load_workbook\n",
    "\n",
    "import os\n",
    "from sklearn.linear_model import LogisticRegression\n",
    "import xgboost as xgb\n",
    "from xgboost import XGBClassifier\n",
    "import lightgbm as lgb\n",
    "from lightgbm import LGBMClassifier\n",
    "from catboost import CatBoostClassifier\n",
    "import random\n",
    "import string\n",
    "\n",
    "pd.set_option('display.max_columns', 200)\n",
    "pd.set_option('display.max_rows', 600)"
   ]
  },
  {
   "cell_type": "markdown",
   "id": "e574cd59-cea2-41c6-b241-0141d03054dc",
   "metadata": {},
   "source": [
    "## Functions"
   ]
  },
  {
   "cell_type": "code",
   "execution_count": 2,
   "id": "b6b98065-1d3c-427d-a600-0a8fceeee24a",
   "metadata": {},
   "outputs": [],
   "source": [
    "def props_good_bad(data, bad_flag, grouped_by):\n",
    "    _ = data.groupby(grouped_by).size().reset_index().rename(columns={0: 'count'})\n",
    "    zero = data[data[bad_flag] == 0].groupby(grouped_by).size().reset_index().rename(columns={0: 'co_good'})['co_good']\n",
    "    one = data[data[bad_flag] == 1].groupby(grouped_by).size().reset_index().rename(columns={0: 'co_bad'})['co_bad']\n",
    "    result = pd.concat([_, zero, one], axis=1)\n",
    "    result['props_good'] = result['co_good'] / result['count']\n",
    "    result['props_bad'] = result['co_bad'] / result['count']\n",
    "    \n",
    "    return result\n",
    "\n",
    "def train_test_prop(train, test):\n",
    "    tr_s = train.shape[0]\n",
    "    te_s = test.shape[0]\n",
    "    total = tr_s + te_s\n",
    "    \n",
    "    tr_p = str(round((tr_s / total) * 100)) + '%'\n",
    "    te_p = str(round((te_s / total) * 100)) + '%'\n",
    "    \n",
    "    return f'{tr_p} : {te_p}'\n",
    "\n",
    "def train_test_info(train, test, flag):\n",
    "    print(f'Train shape: {train.shape}; Test shape: {test.shape}')\n",
    "    print(train_test_prop(train, test))\n",
    "    print()\n",
    "    print('Train Flag Proportion:')\n",
    "    print(train[flag].value_counts())\n",
    "    print(train[flag].value_counts(normalize=True))\n",
    "    print()\n",
    "    print('Test Flag Proportion:')\n",
    "    print(test[flag].value_counts())\n",
    "    print(test[flag].value_counts(normalize=True))\n",
    "\n",
    "def get_df_name(df):\n",
    "    name =[x for x in globals() if globals()[x] is df][0]\n",
    "    return name\n",
    "\n",
    "def calculate_gini(df, flag, name='train'):\n",
    "    fpr, tpr, thresholds = roc_curve(df[flag], df['predict_proba'])\n",
    "    roc_auc = auc(fpr, tpr)\n",
    "    \n",
    "    return 'Gini ' + name + ' = ' + str(round(2 * roc_auc - 1, 2))\n",
    "\n",
    "def calc_gini(df, flag):\n",
    "    fpr, tpr, thresholds = roc_curve(df[flag], df['predict_proba'])\n",
    "    roc_auc = auc(fpr, tpr)\n",
    "    \n",
    "    return round(2 * roc_auc - 1, 2)\n",
    "\n",
    "def print_gini(train, test, flag):\n",
    "    print(calculate_gini(train, flag, 'train'))\n",
    "    print(calculate_gini(test, flag, 'test'))\n",
    "    \n",
    "def plot_roc_curve(fpr, tpr, auc_score):\n",
    "    gini_index = (2*auc_score)-1\n",
    "    plt.figure()\n",
    "    lw = 2\n",
    "    plt.plot(fpr, tpr, color='navy', lw=lw, label='AUC Score = %0.3f\\nGini Index = %0.3f' % (auc_score, gini_index))\n",
    "    plt.plot([0, 1], [0, 1], color='black', lw=lw, linestyle='--')\n",
    "    plt.xlim([0.0, 1.0])\n",
    "    plt.ylim([0.0, 1.05])\n",
    "    plt.xlabel('False Positive Rate')\n",
    "    plt.ylabel('True Positive Rate')\n",
    "    plt.title('ROC Curve Model A-Score')\n",
    "    plt.legend(loc=\"lower right\")\n",
    "    \n",
    "    plt.show()\n",
    "    return\n",
    "\n",
    "def draw_auc(df, flag):\n",
    "    fpr, tpr, thresholds = roc_curve(df[flag], df['predict_proba'])\n",
    "    roc_auc = metrics.auc(fpr, tpr)\n",
    "    # Draw Chart\n",
    "    plot_title = get_df_name(df)\n",
    "    plt.title('Receiver Operating Characteristic (%s)' %plot_title)\n",
    "    plt.plot(fpr, tpr, 'b', label = 'AUC = %0.2f' % roc_auc)\n",
    "    plt.legend(loc = 'lower right')\n",
    "    plt.plot([0, 1], [0, 1],'r--')\n",
    "    plt.xlim([0, 1])\n",
    "    plt.ylim([0, 1])\n",
    "    plt.ylabel('True Positive Rate')\n",
    "    plt.xlabel('False Positive Rate')\n",
    "    plt.show()\n",
    "\n",
    "def summary_auc(flag, train, test, val=None):\n",
    "    draw_auc(train, flag)\n",
    "    \n",
    "    if val != None:\n",
    "        draw_auc(val, flag)\n",
    "        \n",
    "    draw_auc(test, flag)\n",
    "    \n",
    "def final_bin(df, flag):\n",
    "\n",
    "#     percentile = pd.DataFrame(df['cifno'])\n",
    "    percentile = pd.DataFrame()\n",
    "    percentile['probability'] = df['predict_proba']\n",
    "    percentile['actual_flag_1'] = df[flag]\n",
    "    percentile.sort_values(by=['probability'], ascending=False, inplace=True)\n",
    "    \n",
    "    percentile.reset_index(inplace=True)\n",
    "    del percentile['index']\n",
    "    percentile.reset_index(inplace=True)\n",
    "    percentile['decile'] = pd.cut(percentile['index'], 10, labels=False, duplicates='drop')+1\n",
    "    \n",
    "    percentile.sort_values(by=['probability'], inplace=True, ascending=False)\n",
    "    \n",
    "    percentile[['decile', 'probability']].groupby(['decile']).max().sort_values(by=['decile'], ascending=True)\n",
    "    del percentile['index']\n",
    "    \n",
    "    percentile['bins'] = pd.qcut(percentile['probability'], 10, duplicates = 'drop') # 10 -> 100\n",
    "    \n",
    "    return percentile.groupby('bins').agg({'actual_flag_1': [len, 'mean', 'sum'], 'probability': 'mean'})\n",
    "\n",
    "def decile(df, flag, pred='predict_proba', bin=10, ascending=True):\n",
    "#     percentile = pd.DataFrame(test['cifno'])\n",
    "    percentile = pd.DataFrame()\n",
    "    percentile['probability'] = df[pred] #\n",
    "    percentile['actual_flag_1'] = df[flag]\n",
    "    percentile.sort_values(by=['probability'], ascending=False, inplace=True)\n",
    "    \n",
    "    percentile.reset_index(inplace=True)\n",
    "    del percentile['index']\n",
    "    percentile.reset_index(inplace=True)\n",
    "    percentile['decile'] = pd.cut(percentile['index'], bin, labels=False, duplicates='drop')+1\n",
    "    \n",
    "    percentile.sort_values(by=['probability'], inplace=True, ascending=False)\n",
    "    \n",
    "    # percentile[['decile', 'probability']].groupby(['decile']).max().sort_values(by=['decile'], ascending=True)\n",
    "    del percentile['index']\n",
    "    \n",
    "    tes0 = pd.crosstab(percentile['decile'], percentile['actual_flag_1'])\n",
    "    tes = pd.crosstab(percentile['decile'], percentile['actual_flag_1'], normalize='index')\n",
    "    tes2 = percentile.groupby(['decile'])[['probability']].min()\n",
    "    tes3 = percentile.groupby(['decile'])[['probability']].max()\n",
    "    \n",
    "    temp_df = pd.DataFrame(tes[0])\n",
    "    temp_df['1'] = tes[1]\n",
    "    temp_df['actual_flag_0'] = tes0[0]\n",
    "    temp_df['actual_flag_1'] = tes0[1]\n",
    "    temp_df['min_range'] = tes2\n",
    "    temp_df['max_range'] = tes3\n",
    "    \n",
    "    temp_df = temp_df.rename(columns={0:'flag_0', '1':'flag_1'})\n",
    "    \n",
    "    temp_df['population'] = temp_df['actual_flag_0'] + temp_df['actual_flag_1']\n",
    "    temp_df['mean'] = temp_df['actual_flag_1'] / percentile['actual_flag_1'].sum()\n",
    "    \n",
    "    temp_df = temp_df[['min_range', 'max_range', 'flag_0', 'flag_1', 'population', 'actual_flag_0', 'actual_flag_1', 'mean']]\n",
    "\n",
    "    def calculate_cumulative_bad_rate(row):\n",
    "        \n",
    "        cumulative_actual_flag_1 = temp_df.loc[:row.name, 'actual_flag_1'].sum()\n",
    "        cumulative_population = temp_df.loc[:row.name, 'population'].sum()\n",
    "        \n",
    "        return cumulative_actual_flag_1 / cumulative_population\n",
    "    \n",
    "    if ascending == False:\n",
    "        temp_df = temp_df.reset_index().sort_values('decile', ascending=False).drop('decile', axis=1)\n",
    "        temp_df.insert(0, 'decile', [i+1 for i in range(bin)])\n",
    "        temp_df = temp_df.set_index('decile')\n",
    "\n",
    "        temp_df['cum_flag_1_rate'] = temp_df.apply(calculate_cumulative_bad_rate, axis=1)\n",
    "        \n",
    "        return temp_df\n",
    "\n",
    "    temp_df['cum_flag_1_rate'] = temp_df.apply(calculate_cumulative_bad_rate, axis=1)\n",
    "        \n",
    "    return temp_df\n",
    "\n",
    "def feat_bins_agg_comp(df_raw, feature, anch_grp, bins, target_var, duplicates='drop'):\n",
    "    \n",
    "    all_viz = df_raw[[anch_grp, feature, target_var]]\n",
    "    \n",
    "    if (all_viz[feature].dtype == 'object') or (all_viz[feature].nunique() <= 3):\n",
    "        all_viz[feature] = all_viz[feature].fillna('missing')\n",
    "        \n",
    "        \n",
    "        \n",
    "        view1 = all_viz.groupby([anch_grp, feature]).agg({target_var:['mean']}).unstack(level = 0)\n",
    "        view2 = all_viz.groupby([anch_grp, feature]).agg({feature:[len]})\n",
    "        view2 = (view2 / view2.groupby(level=0).sum()).unstack()\n",
    "        view3=all_viz.groupby([anch_grp, feature]).agg({target_var:['mean','count']}).unstack(level = 0)\n",
    "    \n",
    "    else:\n",
    "        all_viz['bin'] = pd.qcut(all_viz[feature],bins,duplicates=duplicates)\n",
    "\n",
    "        if all_viz[feature].isna().sum() > 0:\n",
    "            all_viz['bin'] = all_viz['bin'].cat.add_categories('missing')\n",
    "            all_viz['bin'] = all_viz['bin'].fillna('missing')\n",
    "\n",
    "        view1 = all_viz.groupby([anch_grp, 'bin']).agg({target_var:['mean']}).unstack(level = 0)\n",
    "        view2 = all_viz.groupby([anch_grp, 'bin']).agg({feature:[len]})\n",
    "        view2 = (view2 / view2.groupby(level=0).sum()).unstack()\n",
    "        view3 = all_viz.groupby([anch_grp, 'bin']).agg({target_var:['mean','count']}).unstack(level = 0)\n",
    "        \n",
    "    print(feature)\n",
    "    \n",
    "    display(view3)\n",
    "    view1.plot.bar(rot = 80, figsize = [7,3])\n",
    "    plt.legend(loc='center left', bbox_to_anchor=(1.0, 0.5), title= 'mean_'+target_var)\n",
    "    plt.xlabel('bin_'+feature)\n",
    "    plt.show()\n",
    "\n",
    "def model_pipeline(train, test, model, feat_list, corr_threshold=0.7, drop=[], sort_cat=True, desired_feat_len=None):\n",
    "\n",
    "    model.fit(train[feat_list], train[flag])\n",
    "\n",
    "    # PREDICT\n",
    "    train['predict_proba'] = model.predict_proba(train[feat_list])[:,1]\n",
    "    test['predict_proba'] = model.predict_proba(test[feat_list])[:,1]\n",
    "    \n",
    "    # PRINT GINI\n",
    "    print_gini(train, test, flag)\n",
    "    print()\n",
    "\n",
    "    # FEAT TO ELIMINATE\n",
    "    feat_elim = []\n",
    "    \n",
    "    # MATRIX CORRELATIONS\n",
    "    corr_matrix = train[feat_list].corr()\n",
    "    threshold = corr_threshold\n",
    "    high_corr_pairs = []\n",
    "    \n",
    "    for i in range(len(corr_matrix.columns)):\n",
    "        for j in range(i + 1, len(corr_matrix.columns)):\n",
    "            if abs(corr_matrix.iloc[i, j]) > threshold:\n",
    "                high_corr_pairs.append((corr_matrix.columns[i], corr_matrix.columns[j], corr_matrix.iloc[i, j]))\n",
    "\n",
    "    if len(high_corr_pairs) == 0:\n",
    "        print(f\"No highly correlated pairs (correlation threshold > {threshold}).\\n\")\n",
    "    # else:\n",
    "    #     print(f\"Highly correlated pairs (correlation > {threshold}):\")\n",
    "    #     display(high_corr_pairs)\n",
    "    \n",
    "    # FEATURE IMPORTANCE\n",
    "    feature_importance = pd.Series(model.feature_importances_, train[feat_list].columns).sort_values(ascending = False).reset_index().rename(columns={'index': 'Features', 0: 'Feature Importance'})\n",
    "    \n",
    "    # VIF\n",
    "    # vif_data = pd.DataFrame()\n",
    "    # vif_data[\"Features\"] = feat_list\n",
    "    # vif_data[\"VIF\"] = [variance_inflation_factor(train[feat_list].fillna(0).values, i) for i in range(len(feat_list))]\n",
    "    # coefficients = feature_importance.merge(vif_data, on='Features', how='inner')\n",
    "    coefficients = feature_importance\n",
    "    \n",
    "    # ecommerce = ['st score']\n",
    "    # slik = ['co_cred_tunggak', 'co_cred_konsumsi_lunas', 'sum_vol_cred_konsumsi_aktif', 'co_cred_kartu_kredit']\n",
    "    # indeks = ['idm_mean', 'ipm_kota']\n",
    "    # brilink = ['brikodes_jumlah_id_agen_median', 'brikodes_frekuensi_transaksi_all_median']\n",
    "    # aktivitas_lokal = [\n",
    "    #     'brikodes_sum_lending_plafond_median',\n",
    "    #     'brikodes_sum_lending_payment_amount_seg_kecil_median',\n",
    "    #     'brikodes_sum_lending_payment_amount_mikro_median',\n",
    "    #     'brikodes_sum_lending_payment_amount_kur_median',\n",
    "    #     'brikodes_frekuensi_trx_atm_all_sum',\n",
    "    #     'brikodes_sum_cbal_base_casa_sum',\n",
    "    # ]\n",
    "\n",
    "    # def categorize_feature(value):\n",
    "    #     if value in ecommerce:\n",
    "    #         return 'E-Commerce'\n",
    "    #     elif value in slik:\n",
    "    #         return 'SLIK'\n",
    "    #     elif value in indeks:\n",
    "    #         return 'Indeks Kota atau Desa'\n",
    "    #     elif value in brilink:\n",
    "    #         return 'BRILink'\n",
    "    #     elif value in aktivitas_lokal:\n",
    "    #         return 'Local Activity'\n",
    "    #     else:\n",
    "    #         return 'BRI'\n",
    "    # coefficients['Category'] = coefficients['Features'].apply(categorize_feature)\n",
    "    \n",
    "    if sort_cat:\n",
    "        coefficients = coefficients.sort_values(['Category', 'Feature Importance', 'VIF'], ascending=[True, False, True])\n",
    "    else:\n",
    "        coefficients = coefficients.sort_values(['Feature Importance'], ascending=[False])\n",
    "\n",
    "    if len(high_corr_pairs) > 0:\n",
    "        for feat1, feat2, corr_value in high_corr_pairs:\n",
    "            feat1_importance = coefficients.loc[coefficients['Features'] == feat1, 'Feature Importance'].values[0]\n",
    "            feat2_importance = coefficients.loc[coefficients['Features'] == feat2, 'Feature Importance'].values[0]\n",
    "            \n",
    "            if feat1_importance < feat2_importance:\n",
    "                lowest_feature = feat1\n",
    "            else:\n",
    "                lowest_feature = feat2\n",
    "\n",
    "            lowest_feat_importance = coefficients.loc[coefficients['Features'] == lowest_feature, 'Feature Importance'].values[0]\n",
    "\n",
    "            print(f\"Highly correlated pairs (correlation > {threshold})\\n\")\n",
    "            print(f\"Feat 1: {feat1}\")\n",
    "            print(f\"Feat 2: {feat2}\")\n",
    "            print(f\"Corr Value: {corr_value}\")\n",
    "            print(f\"Lowest Feat. Importance: {lowest_feature}\")\n",
    "            \n",
    "            feat_elim.append(lowest_feature)\n",
    "\n",
    "    if drop:\n",
    "        for col in drop:\n",
    "            filtered_df = coefficients[coefficients['Category'] == col]\n",
    "            min_idx = filtered_df['Feature Importance'].idxmin()\n",
    "            lowest_feature = filtered_df.loc[min_idx, 'Features']\n",
    "            val_feature = filtered_df.loc[min_idx, 'Feature Importance']\n",
    "\n",
    "            print(\"Lowest Feat. Importance\")\n",
    "            print(f\"Category: {col}\")\n",
    "            print(f\"Feat: {lowest_feature}\")\n",
    "            print(f\"Value: {val_feature}\\n\")\n",
    "            \n",
    "            feat_elim.append(lowest_feature)\n",
    "\n",
    "    print(\"Next recommended feat to be dropped\")\n",
    "    print(list(set(feat_elim)))\n",
    "\n",
    "    feat_list = list(set(feat_list) - set(feat_elim))\n",
    "    # display(coefficients)\n",
    "    # display(coefficients[['Features', 'Feature Importance', 'Category']])\n",
    "\n",
    "    return feat_list, coefficients\n",
    "\n",
    "def feature_selection(train, test, model, feat_list, len_feat=100):\n",
    "\n",
    "    model.fit(train[feat_list], train[flag])\n",
    "\n",
    "    # PREDICT\n",
    "    train['predict_proba'] = model.predict_proba(train[feat_list])[:,1]\n",
    "    test['predict_proba'] = model.predict_proba(test[feat_list])[:,1]\n",
    "    \n",
    "    # PRINT GINI\n",
    "    print_gini(train, test, flag)\n",
    "    print()\n",
    "    \n",
    "    # FEATURE IMPORTANCE\n",
    "    feature_importance = pd.Series(model.feature_importances_, train[feat_list].columns).sort_values(ascending = False).reset_index().rename(columns={'index': 'Features', 0: 'Feature Importance'})\n",
    "\n",
    "    # CHECK FEAT LEN\n",
    "    if len(feat_list) <= len_feat:\n",
    "        print(\"Current Feat. Len\")\n",
    "        print(len(feat_list))\n",
    "        display(feature_importance)\n",
    "        return feature_importance['Features'].to_list()\n",
    "        \n",
    "    # NEXT FEAT\n",
    "    if len(feat_list) > 200:\n",
    "        n = -100\n",
    "    elif len(feat_list) > 100:\n",
    "        n = -50\n",
    "    elif len(feat_list) > 50:\n",
    "        n = -10\n",
    "    else:\n",
    "        n = -1\n",
    "        \n",
    "    feature_importance = feature_importance.iloc[:n]\n",
    "    \n",
    "    feat_list = feature_importance['Features'].to_list()\n",
    "\n",
    "    print(\"Next Feat. Len:\")\n",
    "    print(len(feat_list))\n",
    "    print()\n",
    "\n",
    "    return feature_selection(train, test, model, feat_list, len_feat=len_feat)\n",
    "\n",
    "def corr_selection(train, test, model, feat_list, corr_threshold=0.7):\n",
    "\n",
    "    model.fit(train[feat_list], train[flag])\n",
    "\n",
    "    # PREDICT\n",
    "    train['predict_proba'] = model.predict_proba(train[feat_list])[:,1]\n",
    "    test['predict_proba'] = model.predict_proba(test[feat_list])[:,1]\n",
    "    \n",
    "    # PRINT GINI\n",
    "    print_gini(train, test, flag)\n",
    "    print()\n",
    "\n",
    "    # FEAT TO ELIMINATE\n",
    "    feat_elim = []\n",
    "\n",
    "    # MATRIX CORRELATIONS\n",
    "    corr_matrix = train[feat_list].corr()\n",
    "    threshold = corr_threshold\n",
    "    high_corr_pairs = []\n",
    "    \n",
    "    for i in range(len(corr_matrix.columns)):\n",
    "        for j in range(i + 1, len(corr_matrix.columns)):\n",
    "            if abs(corr_matrix.iloc[i, j]) > threshold:\n",
    "                high_corr_pairs.append((corr_matrix.columns[i], corr_matrix.columns[j], corr_matrix.iloc[i, j]))\n",
    "\n",
    "    if len(high_corr_pairs) == 0:\n",
    "        print(f\"No highly correlated pairs (correlation threshold > {threshold}).\\n\")\n",
    "        return feat_list\n",
    "    \n",
    "    # FEATURE IMPORTANCE\n",
    "    feature_importance = pd.Series(model.feature_importances_, train[feat_list].columns).sort_values(ascending = False).reset_index().rename(columns={'index': 'Features', 0: 'Feature Importance'})\n",
    "\n",
    "    if len(high_corr_pairs) > 0:\n",
    "        for feat1, feat2, corr_value in high_corr_pairs:\n",
    "            feat1_importance = feature_importance.loc[feature_importance['Features'] == feat1, 'Feature Importance'].values[0]\n",
    "            feat2_importance = feature_importance.loc[feature_importance['Features'] == feat2, 'Feature Importance'].values[0]\n",
    "            \n",
    "            if feat1_importance < feat2_importance:\n",
    "                lowest_feature = feat1\n",
    "            else:\n",
    "                lowest_feature = feat2\n",
    "\n",
    "            lowest_feat_importance = feature_importance.loc[feature_importance['Features'] == lowest_feature, 'Feature Importance'].values[0]\n",
    "\n",
    "            # print(f\"Highly correlated pairs (correlation > {threshold})\\n\")\n",
    "            # print(f\"Feat 1: {feat1}\")\n",
    "            # print(f\"Feat 2: {feat2}\")\n",
    "            # print(f\"Corr Value: {corr_value}\")\n",
    "            # print(f\"Lowest Feat. Importance: {lowest_feature}\")\n",
    "            \n",
    "            feat_elim.append(lowest_feature)\n",
    "\n",
    "    print(\"Correlated Features Len:\")\n",
    "    print(len(high_corr_pairs))\n",
    "    print()\n",
    "    \n",
    "    feature_importance = feature_importance[~feature_importance['Features'].isin(feat_elim)]\n",
    "    \n",
    "    feat_list = feature_importance['Features'].to_list()\n",
    "\n",
    "    print(\"Next Feat. Len:\")\n",
    "    print(len(feat_list))\n",
    "    print()\n",
    "\n",
    "    return corr_selection(train, test, model, feat_list)"
   ]
  },
  {
   "cell_type": "markdown",
   "id": "dbbb3897-4114-4c45-b5c7-07fa94cb2a88",
   "metadata": {},
   "source": [
    "## Read Dataset"
   ]
  },
  {
   "cell_type": "code",
   "execution_count": 3,
   "id": "43677de9-a9e0-45a0-ab4f-bc4dd6775e81",
   "metadata": {},
   "outputs": [
    {
     "data": {
      "text/plain": [
       "(589080, 598)"
      ]
     },
     "execution_count": 3,
     "metadata": {},
     "output_type": "execute_result"
    }
   ],
   "source": [
    "df = pd.read_csv(\"final_briscore_cscore.csv\") # briscore_cscore_dataset_final.csv -> Final Dataset with Final Features\n",
    "df.shape"
   ]
  },
  {
   "cell_type": "code",
   "execution_count": 4,
   "id": "1d60886f-b659-40e8-9641-6384c02c34b0",
   "metadata": {},
   "outputs": [
    {
     "data": {
      "text/html": [
       "<div>\n",
       "<style scoped>\n",
       "    .dataframe tbody tr th:only-of-type {\n",
       "        vertical-align: middle;\n",
       "    }\n",
       "\n",
       "    .dataframe tbody tr th {\n",
       "        vertical-align: top;\n",
       "    }\n",
       "\n",
       "    .dataframe thead th {\n",
       "        text-align: right;\n",
       "    }\n",
       "</style>\n",
       "<table border=\"1\" class=\"dataframe\">\n",
       "  <thead>\n",
       "    <tr style=\"text-align: right;\">\n",
       "      <th></th>\n",
       "      <th>bucket_dpd</th>\n",
       "      <th>co_bad</th>\n",
       "      <th>props_bad</th>\n",
       "    </tr>\n",
       "  </thead>\n",
       "  <tbody>\n",
       "    <tr>\n",
       "      <th>0</th>\n",
       "      <td>3</td>\n",
       "      <td>41321</td>\n",
       "      <td>0.423705</td>\n",
       "    </tr>\n",
       "    <tr>\n",
       "      <th>1</th>\n",
       "      <td>4</td>\n",
       "      <td>15032</td>\n",
       "      <td>0.215816</td>\n",
       "    </tr>\n",
       "    <tr>\n",
       "      <th>2</th>\n",
       "      <td>5</td>\n",
       "      <td>5621</td>\n",
       "      <td>0.089843</td>\n",
       "    </tr>\n",
       "  </tbody>\n",
       "</table>\n",
       "</div>"
      ],
      "text/plain": [
       "   bucket_dpd  co_bad  props_bad\n",
       "0           3   41321   0.423705\n",
       "1           4   15032   0.215816\n",
       "2           5    5621   0.089843"
      ]
     },
     "execution_count": 4,
     "metadata": {},
     "output_type": "execute_result"
    }
   ],
   "source": [
    "props_good_bad(df[df['porto'] == 'CERIA'], 'flag_bad', 'bucket_dpd')[['bucket_dpd', 'co_bad', 'props_bad']]"
   ]
  },
  {
   "cell_type": "code",
   "execution_count": 5,
   "id": "52085bce-a704-448c-8b34-5611bb463803",
   "metadata": {},
   "outputs": [
    {
     "data": {
      "text/html": [
       "<div>\n",
       "<style scoped>\n",
       "    .dataframe tbody tr th:only-of-type {\n",
       "        vertical-align: middle;\n",
       "    }\n",
       "\n",
       "    .dataframe tbody tr th {\n",
       "        vertical-align: top;\n",
       "    }\n",
       "\n",
       "    .dataframe thead th {\n",
       "        text-align: right;\n",
       "    }\n",
       "</style>\n",
       "<table border=\"1\" class=\"dataframe\">\n",
       "  <thead>\n",
       "    <tr style=\"text-align: right;\">\n",
       "      <th></th>\n",
       "      <th>bucket_dpd</th>\n",
       "      <th>co_bad</th>\n",
       "      <th>props_bad</th>\n",
       "    </tr>\n",
       "  </thead>\n",
       "  <tbody>\n",
       "    <tr>\n",
       "      <th>0</th>\n",
       "      <td>2</td>\n",
       "      <td>68278</td>\n",
       "      <td>0.438269</td>\n",
       "    </tr>\n",
       "    <tr>\n",
       "      <th>1</th>\n",
       "      <td>3</td>\n",
       "      <td>23246</td>\n",
       "      <td>0.260550</td>\n",
       "    </tr>\n",
       "    <tr>\n",
       "      <th>2</th>\n",
       "      <td>4</td>\n",
       "      <td>14144</td>\n",
       "      <td>0.214147</td>\n",
       "    </tr>\n",
       "    <tr>\n",
       "      <th>3</th>\n",
       "      <td>5</td>\n",
       "      <td>4343</td>\n",
       "      <td>0.089949</td>\n",
       "    </tr>\n",
       "  </tbody>\n",
       "</table>\n",
       "</div>"
      ],
      "text/plain": [
       "   bucket_dpd  co_bad  props_bad\n",
       "0           2   68278   0.438269\n",
       "1           3   23246   0.260550\n",
       "2           4   14144   0.214147\n",
       "3           5    4343   0.089949"
      ]
     },
     "execution_count": 5,
     "metadata": {},
     "output_type": "execute_result"
    }
   ],
   "source": [
    "props_good_bad(df[df['porto'] == 'CC'], 'flag_bad', 'bucket_dpd')[['bucket_dpd', 'co_bad', 'props_bad']]"
   ]
  },
  {
   "cell_type": "markdown",
   "id": "96fa12b9-59ce-45fe-8559-50161639a9ff",
   "metadata": {},
   "source": [
    "## Bad Rate Overall"
   ]
  },
  {
   "cell_type": "code",
   "execution_count": 6,
   "id": "e987325b-b4ee-4b7b-b774-83fac5b56488",
   "metadata": {},
   "outputs": [
    {
     "data": {
      "text/plain": [
       "flag_bad\n",
       "0    0.708045\n",
       "1    0.291955\n",
       "Name: proportion, dtype: float64"
      ]
     },
     "execution_count": 6,
     "metadata": {},
     "output_type": "execute_result"
    }
   ],
   "source": [
    "df['flag_bad'].value_counts(normalize=True)"
   ]
  },
  {
   "cell_type": "markdown",
   "id": "7db607f7-feec-4b4d-b3ba-01e9b9754896",
   "metadata": {},
   "source": [
    "### 4.1. Bad Rate CERIA"
   ]
  },
  {
   "cell_type": "code",
   "execution_count": 7,
   "id": "acb0bf1b-b88e-4b82-8125-890bc567112c",
   "metadata": {},
   "outputs": [
    {
     "data": {
      "text/plain": [
       "flag_bad\n",
       "0    0.730243\n",
       "1    0.269757\n",
       "Name: proportion, dtype: float64"
      ]
     },
     "execution_count": 7,
     "metadata": {},
     "output_type": "execute_result"
    }
   ],
   "source": [
    "df[df['porto'] == 'CERIA']['flag_bad'].value_counts(normalize=True)"
   ]
  },
  {
   "cell_type": "markdown",
   "id": "56c278db-884e-420d-9543-b157c8f4cfc0",
   "metadata": {},
   "source": [
    "### 4.2. Bad Rate CC"
   ]
  },
  {
   "cell_type": "code",
   "execution_count": 8,
   "id": "ff28fbcb-3129-434b-b863-fdd77d1c0560",
   "metadata": {},
   "outputs": [
    {
     "data": {
      "text/plain": [
       "flag_bad\n",
       "0    0.693853\n",
       "1    0.306147\n",
       "Name: proportion, dtype: float64"
      ]
     },
     "execution_count": 8,
     "metadata": {},
     "output_type": "execute_result"
    }
   ],
   "source": [
    "df[df['porto'] == 'CC']['flag_bad'].value_counts(normalize=True)"
   ]
  },
  {
   "cell_type": "markdown",
   "id": "b54c78b7-de4e-4335-8231-af62c5283d70",
   "metadata": {},
   "source": [
    "## Dataset Accross Cohort"
   ]
  },
  {
   "cell_type": "code",
   "execution_count": 9,
   "id": "a453a148-e79c-40c2-90e1-f42803755c72",
   "metadata": {},
   "outputs": [
    {
     "data": {
      "text/html": [
       "<div>\n",
       "<style scoped>\n",
       "    .dataframe tbody tr th:only-of-type {\n",
       "        vertical-align: middle;\n",
       "    }\n",
       "\n",
       "    .dataframe tbody tr th {\n",
       "        vertical-align: top;\n",
       "    }\n",
       "\n",
       "    .dataframe thead th {\n",
       "        text-align: right;\n",
       "    }\n",
       "</style>\n",
       "<table border=\"1\" class=\"dataframe\">\n",
       "  <thead>\n",
       "    <tr style=\"text-align: right;\">\n",
       "      <th></th>\n",
       "      <th>ds</th>\n",
       "      <th>count</th>\n",
       "      <th>co_good</th>\n",
       "      <th>co_bad</th>\n",
       "      <th>props_good</th>\n",
       "      <th>props_bad</th>\n",
       "    </tr>\n",
       "  </thead>\n",
       "  <tbody>\n",
       "    <tr>\n",
       "      <th>0</th>\n",
       "      <td>202208</td>\n",
       "      <td>30384</td>\n",
       "      <td>20301</td>\n",
       "      <td>10083</td>\n",
       "      <td>0.668148</td>\n",
       "      <td>0.331852</td>\n",
       "    </tr>\n",
       "    <tr>\n",
       "      <th>1</th>\n",
       "      <td>202209</td>\n",
       "      <td>35406</td>\n",
       "      <td>24772</td>\n",
       "      <td>10634</td>\n",
       "      <td>0.699655</td>\n",
       "      <td>0.300345</td>\n",
       "    </tr>\n",
       "    <tr>\n",
       "      <th>2</th>\n",
       "      <td>202210</td>\n",
       "      <td>38889</td>\n",
       "      <td>26942</td>\n",
       "      <td>11947</td>\n",
       "      <td>0.692792</td>\n",
       "      <td>0.307208</td>\n",
       "    </tr>\n",
       "    <tr>\n",
       "      <th>3</th>\n",
       "      <td>202211</td>\n",
       "      <td>42505</td>\n",
       "      <td>29210</td>\n",
       "      <td>13295</td>\n",
       "      <td>0.687213</td>\n",
       "      <td>0.312787</td>\n",
       "    </tr>\n",
       "    <tr>\n",
       "      <th>4</th>\n",
       "      <td>202212</td>\n",
       "      <td>44200</td>\n",
       "      <td>31582</td>\n",
       "      <td>12618</td>\n",
       "      <td>0.714525</td>\n",
       "      <td>0.285475</td>\n",
       "    </tr>\n",
       "    <tr>\n",
       "      <th>5</th>\n",
       "      <td>202301</td>\n",
       "      <td>51959</td>\n",
       "      <td>37318</td>\n",
       "      <td>14641</td>\n",
       "      <td>0.718220</td>\n",
       "      <td>0.281780</td>\n",
       "    </tr>\n",
       "    <tr>\n",
       "      <th>6</th>\n",
       "      <td>202302</td>\n",
       "      <td>61994</td>\n",
       "      <td>41533</td>\n",
       "      <td>20461</td>\n",
       "      <td>0.669952</td>\n",
       "      <td>0.330048</td>\n",
       "    </tr>\n",
       "    <tr>\n",
       "      <th>7</th>\n",
       "      <td>202303</td>\n",
       "      <td>60609</td>\n",
       "      <td>41668</td>\n",
       "      <td>18941</td>\n",
       "      <td>0.687489</td>\n",
       "      <td>0.312511</td>\n",
       "    </tr>\n",
       "    <tr>\n",
       "      <th>8</th>\n",
       "      <td>202304</td>\n",
       "      <td>56315</td>\n",
       "      <td>41245</td>\n",
       "      <td>15070</td>\n",
       "      <td>0.732398</td>\n",
       "      <td>0.267602</td>\n",
       "    </tr>\n",
       "    <tr>\n",
       "      <th>9</th>\n",
       "      <td>202305</td>\n",
       "      <td>54652</td>\n",
       "      <td>39438</td>\n",
       "      <td>15214</td>\n",
       "      <td>0.721620</td>\n",
       "      <td>0.278380</td>\n",
       "    </tr>\n",
       "    <tr>\n",
       "      <th>10</th>\n",
       "      <td>202306</td>\n",
       "      <td>55562</td>\n",
       "      <td>40924</td>\n",
       "      <td>14638</td>\n",
       "      <td>0.736547</td>\n",
       "      <td>0.263453</td>\n",
       "    </tr>\n",
       "    <tr>\n",
       "      <th>11</th>\n",
       "      <td>202307</td>\n",
       "      <td>56605</td>\n",
       "      <td>42162</td>\n",
       "      <td>14443</td>\n",
       "      <td>0.744846</td>\n",
       "      <td>0.255154</td>\n",
       "    </tr>\n",
       "  </tbody>\n",
       "</table>\n",
       "</div>"
      ],
      "text/plain": [
       "        ds  count  co_good  co_bad  props_good  props_bad\n",
       "0   202208  30384    20301   10083    0.668148   0.331852\n",
       "1   202209  35406    24772   10634    0.699655   0.300345\n",
       "2   202210  38889    26942   11947    0.692792   0.307208\n",
       "3   202211  42505    29210   13295    0.687213   0.312787\n",
       "4   202212  44200    31582   12618    0.714525   0.285475\n",
       "5   202301  51959    37318   14641    0.718220   0.281780\n",
       "6   202302  61994    41533   20461    0.669952   0.330048\n",
       "7   202303  60609    41668   18941    0.687489   0.312511\n",
       "8   202304  56315    41245   15070    0.732398   0.267602\n",
       "9   202305  54652    39438   15214    0.721620   0.278380\n",
       "10  202306  55562    40924   14638    0.736547   0.263453\n",
       "11  202307  56605    42162   14443    0.744846   0.255154"
      ]
     },
     "execution_count": 9,
     "metadata": {},
     "output_type": "execute_result"
    }
   ],
   "source": [
    "props_good_bad(df, 'flag_bad', 'ds')"
   ]
  },
  {
   "cell_type": "markdown",
   "id": "1dd7648b-77c6-4502-adfe-c15affbb86d3",
   "metadata": {},
   "source": [
    "## Feature Engineering"
   ]
  },
  {
   "cell_type": "code",
   "execution_count": 10,
   "id": "c306c54b-817e-42a2-acb7-e77ca0b1934c",
   "metadata": {},
   "outputs": [],
   "source": [
    "# df_final_briscore['initial_limit'] = np.where((df_final_briscore['dataset'] == 'RYAN'), np.nan, df_final_briscore['initial_limit'])\n",
    "# df_final_briscore['max_dpd_l3m'] = np.where((df_final_briscore['dataset'] == 'RYAN'), np.nan, df_final_briscore['max_dpd_l3m'])"
   ]
  },
  {
   "cell_type": "markdown",
   "id": "c5972cb7-820a-48ad-8f20-1bffb3997686",
   "metadata": {},
   "source": [
    "### 6.1. Label Encoding"
   ]
  },
  {
   "cell_type": "code",
   "execution_count": 11,
   "id": "84090a29-58b2-4ce1-8178-025e11e6832f",
   "metadata": {},
   "outputs": [
    {
     "data": {
      "text/plain": [
       "578"
      ]
     },
     "execution_count": 11,
     "metadata": {},
     "output_type": "execute_result"
    }
   ],
   "source": [
    "flag = 'flag_bad'\n",
    "\n",
    "non_feat = [\n",
    "    'porto',\n",
    "    'ongoing_branch',\n",
    "    'first_branch',\n",
    "    'last_branch',\n",
    "    'cifno',\n",
    "    'flag_bad',\n",
    "    'cif_id',\n",
    "    'acid',\n",
    "    'oda',\n",
    "    'cm_card_nmbr',\n",
    "    'trx_date',\n",
    "    'event_date',\n",
    "    'cohort',\n",
    "    'ds',\n",
    "    'saving_register_region_na_first',\n",
    "    'saving_mapp_register_region_na_first',\n",
    "    'saving_register_region_na_last',\n",
    "    'saving_mapp_register_region_na_last',\n",
    "    'loan_product_type_na_na',\n",
    "    'brimo_create_na_date_na',\n",
    "    'brimo_create_na_date_min_na',\n",
    "    'brimo_create_na_date_max_na',\n",
    "    'brimo_trx_lastdt_na_na',\n",
    "    'loan_open_date',\n",
    "    'loan_type',\n",
    "    'ongoing_rgdesc',\n",
    "    'first_rgdesc',\n",
    "    'last_rgdesc',\n",
    "    'product',\n",
    "    'demog_personal_tanggal_lahir_na_na',\n",
    "    'demog_personal_agama_na_na',\n",
    "    'demog_personal_status_nikah_na_na',\n",
    "    'saving_min_opdate',\n",
    "    'open_date',\n",
    "    'cif_nasabah',\n",
    "    'loan_product_type_na_na', \n",
    "    'first_rgdesc', \n",
    "    'saving_register_region_na_last', \n",
    "    'saving_register_region_na_first',\n",
    "    'brimo_create_na_date_min_na',\n",
    "    'saving_mapp_register_region_na_last',\n",
    "    'ongoing_rgdesc',\n",
    "    'last_rgdesc',\n",
    "    'brimo_trx_lastdt_na_na',\n",
    "    'brimo_create_na_date_max_na',\n",
    "]\n",
    "\n",
    "all_feat = list(set(df.columns.to_list()) - set(non_feat))\n",
    "all_feat.sort()\n",
    "\n",
    "len(all_feat)"
   ]
  },
  {
   "cell_type": "code",
   "execution_count": 12,
   "id": "68f54d53-be9a-4c66-bdef-71940507dc4c",
   "metadata": {},
   "outputs": [
    {
     "data": {
      "text/plain": [
       "0"
      ]
     },
     "execution_count": 12,
     "metadata": {},
     "output_type": "execute_result"
    }
   ],
   "source": [
    "non_feat_drop = [i for i in non_feat if i in df.columns.to_list()]\n",
    "\n",
    "feat_str = df.drop(non_feat_drop, axis=1).select_dtypes(include=['category', 'object']).columns.tolist()\n",
    "len(feat_str)"
   ]
  },
  {
   "cell_type": "code",
   "execution_count": 13,
   "id": "ec894a20-64c0-49d5-8011-3a1a4124ba2a",
   "metadata": {},
   "outputs": [],
   "source": [
    "for i, feat in enumerate(feat_str):\n",
    "    print((i+1), feat)\n",
    "    le = LabelEncoder()\n",
    "    df[feat] = le.fit_transform(df[feat])"
   ]
  },
  {
   "cell_type": "markdown",
   "id": "127e0478-d612-49df-9aed-1f774fc9d389",
   "metadata": {},
   "source": [
    "## Split Dataset"
   ]
  },
  {
   "cell_type": "code",
   "execution_count": 80,
   "id": "d52561a1-e849-43b0-b131-5fcd4f8804df",
   "metadata": {},
   "outputs": [],
   "source": [
    "flag = 'flag_bad'"
   ]
  },
  {
   "cell_type": "code",
   "execution_count": 81,
   "id": "1effeaae-9e65-40b7-9eba-bf0ba8fcf691",
   "metadata": {},
   "outputs": [
    {
     "name": "stdout",
     "output_type": "stream",
     "text": [
      "Train shape: (365946, 600); Test shape: (223134, 600)\n",
      "62% : 38%\n",
      "\n",
      "Train Flag Proportion:\n",
      "flag_bad\n",
      "0    253326\n",
      "1    112620\n",
      "Name: count, dtype: int64\n",
      "flag_bad\n",
      "0    0.69225\n",
      "1    0.30775\n",
      "Name: proportion, dtype: float64\n",
      "\n",
      "Test Flag Proportion:\n",
      "flag_bad\n",
      "0    163769\n",
      "1     59365\n",
      "Name: count, dtype: int64\n",
      "flag_bad\n",
      "0    0.733949\n",
      "1    0.266051\n",
      "Name: proportion, dtype: float64\n"
     ]
    }
   ],
   "source": [
    "train = df[df['ds'].astype('int') <= 202303]\n",
    "test = df[df['ds'].astype('int') > 202303]\n",
    "\n",
    "train_test_info(train, test, flag)"
   ]
  },
  {
   "cell_type": "markdown",
   "id": "67310d25-3188-4726-824a-8e09dab3a3f5",
   "metadata": {},
   "source": [
    "## Final Features"
   ]
  },
  {
   "cell_type": "code",
   "execution_count": 82,
   "id": "4f9b9a48-7d1a-4eab-966f-21e33fb59c8b",
   "metadata": {},
   "outputs": [
    {
     "data": {
      "text/plain": [
       "583"
      ]
     },
     "execution_count": 82,
     "metadata": {},
     "output_type": "execute_result"
    }
   ],
   "source": [
    "all_feat = df.columns.to_list()\n",
    "\n",
    "elim_feat = [\n",
    "    'cifno',\n",
    "    'ds',\n",
    "    'flag_bad',\n",
    "    'porto',\n",
    "    'loan_product_type_na_na', \n",
    "    'first_rgdesc', \n",
    "    'saving_register_region_na_last', \n",
    "    'saving_register_region_na_first',\n",
    "    'brimo_create_na_date_min_na',\n",
    "    'saving_mapp_register_region_na_last',\n",
    "    'ongoing_rgdesc',\n",
    "    'last_rgdesc',\n",
    "    'brimo_trx_lastdt_na_na',\n",
    "    'brimo_create_na_date_max_na',\n",
    "    'saving_mapp_register_region_na_first',\n",
    "    'open_date',\n",
    "    'bucket_flag',\n",
    "]\n",
    "\n",
    "feat_list = list(set(all_feat) - set(elim_feat))\n",
    "len(feat_list)"
   ]
  },
  {
   "cell_type": "code",
   "execution_count": 86,
   "id": "bf91203d-f90c-41b9-8eba-7b3f754686cc",
   "metadata": {},
   "outputs": [
    {
     "data": {
      "text/plain": [
       "10"
      ]
     },
     "execution_count": 86,
     "metadata": {},
     "output_type": "execute_result"
    }
   ],
   "source": [
    "feat_list = [    \n",
    "    'saving_casatd_aktif_sum_na',\n",
    "    'bucket_dpd',\n",
    "    'ddhist_trx_credit_count_l30d',\n",
    "    'brimo_trx_na_count_l90d',\n",
    "    'ddhist_trx_debit_count_l90d',\n",
    "    'transaction_ratio_cocasa_cotrxcred_na_l30d',\n",
    "    'collection_act_rsch_count_l1m',\n",
    "    'spending_trx_consumerloans_count_l90d',\n",
    "    'ddhist_trend_trxcred_sum_l90d',\n",
    "    'rt_avg_outs_1_3'\n",
    "]\n",
    "\n",
    "len(feat_list)"
   ]
  },
  {
   "cell_type": "markdown",
   "id": "f3623e35-90c1-41af-85a0-52caeff6b380",
   "metadata": {},
   "source": [
    "## Model Fitting"
   ]
  },
  {
   "cell_type": "code",
   "execution_count": 87,
   "id": "a01587e8-908a-4b22-aa9d-ca378f658f0e",
   "metadata": {},
   "outputs": [
    {
     "name": "stdout",
     "output_type": "stream",
     "text": [
      "Gini train = 0.62\n",
      "Gini test = 0.59\n",
      "\n",
      "CPU times: user 53.3 s, sys: 646 ms, total: 54 s\n",
      "Wall time: 12.8 s\n"
     ]
    }
   ],
   "source": [
    "%%time\n",
    "\n",
    "model = XGBClassifier(\n",
    "    # base_score=0.5,\n",
    "    # importance_type=None,\n",
    "    # interaction_constraints='',\n",
    "    # colsample_bylevel=1,\n",
    "    # colsample_bynode=1,\n",
    "    # colsample_bytree=1,\n",
    "    # enable_categorical=False,\n",
    "    # max_delta_step=2,\n",
    "    max_depth=5, ##\n",
    "    # min_child_weight=3, ##\n",
    "    n_estimators=200, ##\n",
    "    # num_parallel_tree=1,\n",
    "    # scale_pos_weight=1,\n",
    "    # subsample=0.8,\n",
    "    eta=0.09, ##  #learning rate\n",
    "    gamma=0.1, ## #Min loss reduction required to make a further partition on a leaf node\n",
    "    reg_alpha=0.5, ##\n",
    "    reg_lambda=0.5, ##\n",
    "    \n",
    "    random_state=11,\n",
    "    seed=42,\n",
    "    n_jobs=-1,\n",
    "    eval_metric='auc',\n",
    "    predictor='auto',\n",
    "    booster='gbtree',\n",
    "    verbosity=1,\n",
    "    # gpu_id=-1,\n",
    "    # tree_method='gpu_hist'\n",
    ")\n",
    "\n",
    "model.fit(train[feat_list], train[flag])\n",
    "\n",
    "# PREDICT\n",
    "train['predict_proba'] = model.predict_proba(train[feat_list])[:,1]\n",
    "test['predict_proba'] = model.predict_proba(test[feat_list])[:,1]\n",
    "\n",
    "# PRINT GINI\n",
    "print_gini(train, test, flag)\n",
    "print()"
   ]
  },
  {
   "cell_type": "code",
   "execution_count": 88,
   "id": "31a751f1-33a1-46c9-ad6e-4895b0b2c40e",
   "metadata": {},
   "outputs": [
    {
     "data": {
      "image/png": "[encoded data removed]",
      "text/plain": [
       "<Figure size 640x480 with 1 Axes>"
      ]
     },
     "metadata": {},
     "output_type": "display_data"
    },
    {
     "data": {
      "image/png": "[encoded data removed]",
      "text/plain": [
       "<Figure size 640x480 with 1 Axes>"
      ]
     },
     "metadata": {},
     "output_type": "display_data"
    }
   ],
   "source": [
    "summary_auc(flag, train, test)"
   ]
  },
  {
   "cell_type": "markdown",
   "id": "7559b6fa-1b1b-4ebf-b169-644eaa46e2ca",
   "metadata": {},
   "source": [
    "## Feature Analysis"
   ]
  },
  {
   "cell_type": "markdown",
   "id": "7424b854-d214-4e5a-a41b-d71092337ed2",
   "metadata": {},
   "source": [
    "### 10.1. Feature Importance"
   ]
  },
  {
   "cell_type": "code",
   "execution_count": 89,
   "id": "c327ed66-aee7-48cd-a429-e5eb6d402570",
   "metadata": {},
   "outputs": [
    {
     "data": {
      "text/plain": [
       "<Axes: title={'center': 'Feature Importances'}, xlabel='Features'>"
      ]
     },
     "execution_count": 89,
     "metadata": {},
     "output_type": "execute_result"
    },
    {
     "data": {
      "image/png": "[encoded data removed]",
      "text/plain": [
       "<Figure size 640x480 with 1 Axes>"
      ]
     },
     "metadata": {},
     "output_type": "display_data"
    }
   ],
   "source": [
    "feature_importance = pd.Series(model.feature_importances_, train[feat_list].columns).sort_values(ascending = False).reset_index().rename(columns={'index': 'Features', 0: 'Feature Importance'})\n",
    "feature_importance.set_index('Features').iloc[:20].plot(kind='bar', title='Feature Importances')"
   ]
  },
  {
   "cell_type": "markdown",
   "id": "cc819522-e9c6-48c0-9bd5-603fb4e3d4db",
   "metadata": {},
   "source": [
    "### 10.2. VIF (Multicolinearity)"
   ]
  },
  {
   "cell_type": "code",
   "execution_count": 239,
   "id": "b1773312-e248-4403-b240-1948eab9aae2",
   "metadata": {},
   "outputs": [
    {
     "name": "stdout",
     "output_type": "stream",
     "text": [
      "CPU times: user 1.86 s, sys: 489 ms, total: 2.35 s\n",
      "Wall time: 1.44 s\n"
     ]
    }
   ],
   "source": [
    "%%time\n",
    "    \n",
    "# VIF dataframe\n",
    "vif_data = pd.DataFrame()\n",
    "vif_data[\"Features\"] = feat_list\n",
    "  \n",
    "# calculating VIF for each f|eature\n",
    "vif_data[\"VIF\"] = [variance_inflation_factor(train[feat_list].fillna(0).values, i)\n",
    "                          for i in range(len(feat_list))]"
   ]
  },
  {
   "cell_type": "code",
   "execution_count": 240,
   "id": "cadbcb74-36c7-4448-8ab9-d7043e22c89c",
   "metadata": {},
   "outputs": [
    {
     "data": {
      "text/html": [
       "<div>\n",
       "<style scoped>\n",
       "    .dataframe tbody tr th:only-of-type {\n",
       "        vertical-align: middle;\n",
       "    }\n",
       "\n",
       "    .dataframe tbody tr th {\n",
       "        vertical-align: top;\n",
       "    }\n",
       "\n",
       "    .dataframe thead th {\n",
       "        text-align: right;\n",
       "    }\n",
       "</style>\n",
       "<table border=\"1\" class=\"dataframe\">\n",
       "  <thead>\n",
       "    <tr style=\"text-align: right;\">\n",
       "      <th></th>\n",
       "      <th>Features</th>\n",
       "      <th>Feature Importance</th>\n",
       "      <th>VIF</th>\n",
       "    </tr>\n",
       "  </thead>\n",
       "  <tbody>\n",
       "    <tr>\n",
       "      <th>0</th>\n",
       "      <td>bucket_dpd</td>\n",
       "      <td>0.250790</td>\n",
       "      <td>4.116203</td>\n",
       "    </tr>\n",
       "    <tr>\n",
       "      <th>1</th>\n",
       "      <td>ddhist_trx_credit_count_l30d</td>\n",
       "      <td>0.119374</td>\n",
       "      <td>1.014348</td>\n",
       "    </tr>\n",
       "    <tr>\n",
       "      <th>2</th>\n",
       "      <td>brimo_trx_na_count_l90d</td>\n",
       "      <td>0.094312</td>\n",
       "      <td>1.076682</td>\n",
       "    </tr>\n",
       "    <tr>\n",
       "      <th>3</th>\n",
       "      <td>ddhist_trend_trxcred_sum_l90d</td>\n",
       "      <td>0.083530</td>\n",
       "      <td>1.000066</td>\n",
       "    </tr>\n",
       "    <tr>\n",
       "      <th>4</th>\n",
       "      <td>saving_casatd_aktif_sum_na</td>\n",
       "      <td>0.082783</td>\n",
       "      <td>1.000217</td>\n",
       "    </tr>\n",
       "    <tr>\n",
       "      <th>5</th>\n",
       "      <td>spending_trx_consumerloans_count_l90d</td>\n",
       "      <td>0.071047</td>\n",
       "      <td>1.242216</td>\n",
       "    </tr>\n",
       "    <tr>\n",
       "      <th>6</th>\n",
       "      <td>loan_acct_kpp_count_na</td>\n",
       "      <td>0.067797</td>\n",
       "      <td>1.034352</td>\n",
       "    </tr>\n",
       "    <tr>\n",
       "      <th>7</th>\n",
       "      <td>transaction_ratio_cocasa_cotrxcred_na_l30d</td>\n",
       "      <td>0.062396</td>\n",
       "      <td>1.269906</td>\n",
       "    </tr>\n",
       "    <tr>\n",
       "      <th>8</th>\n",
       "      <td>collection_act_rsch_count_l1m</td>\n",
       "      <td>0.061883</td>\n",
       "      <td>1.009943</td>\n",
       "    </tr>\n",
       "    <tr>\n",
       "      <th>9</th>\n",
       "      <td>ddhist_trx_debit_count_l90d</td>\n",
       "      <td>0.058385</td>\n",
       "      <td>1.001074</td>\n",
       "    </tr>\n",
       "    <tr>\n",
       "      <th>10</th>\n",
       "      <td>rt_avg_outs_1_3</td>\n",
       "      <td>0.047702</td>\n",
       "      <td>4.139848</td>\n",
       "    </tr>\n",
       "  </tbody>\n",
       "</table>\n",
       "</div>"
      ],
      "text/plain": [
       "                                      Features  Feature Importance       VIF\n",
       "0                                   bucket_dpd            0.250790  4.116203\n",
       "1                 ddhist_trx_credit_count_l30d            0.119374  1.014348\n",
       "2                      brimo_trx_na_count_l90d            0.094312  1.076682\n",
       "3                ddhist_trend_trxcred_sum_l90d            0.083530  1.000066\n",
       "4                   saving_casatd_aktif_sum_na            0.082783  1.000217\n",
       "5        spending_trx_consumerloans_count_l90d            0.071047  1.242216\n",
       "6                       loan_acct_kpp_count_na            0.067797  1.034352\n",
       "7   transaction_ratio_cocasa_cotrxcred_na_l30d            0.062396  1.269906\n",
       "8                collection_act_rsch_count_l1m            0.061883  1.009943\n",
       "9                  ddhist_trx_debit_count_l90d            0.058385  1.001074\n",
       "10                             rt_avg_outs_1_3            0.047702  4.139848"
      ]
     },
     "execution_count": 240,
     "metadata": {},
     "output_type": "execute_result"
    }
   ],
   "source": [
    "coefficients = feature_importance.merge(vif_data, on='Features', how='inner')\n",
    "coefficients.sort_values(['Feature Importance', 'VIF'], ascending=[False, True])"
   ]
  },
  {
   "cell_type": "markdown",
   "id": "bac7978e-6457-4e59-a424-2561a7062e44",
   "metadata": {},
   "source": [
    "### 10.3. Correlation"
   ]
  },
  {
   "cell_type": "code",
   "execution_count": 241,
   "id": "bcaf7fbd-d11e-4f23-b3c2-df067e4c82c6",
   "metadata": {},
   "outputs": [
    {
     "data": {
      "image/png": "[encoded data removed]",
      "text/plain": [
       "<Figure size 2000x1000 with 2 Axes>"
      ]
     },
     "metadata": {},
     "output_type": "display_data"
    }
   ],
   "source": [
    "corr_matrix = train[feat_list].corr()\n",
    "\n",
    "mask = np.triu(np.ones_like(corr_matrix))\n",
    "plt.figure(figsize=(20, 10))\n",
    "dataplot = sns.heatmap(corr_matrix, annot=True, fmt='.2f', cmap='YlGnBu', mask=mask)\n",
    "plt.title('Correlation Matrix Heatmap')\n",
    "plt.show()"
   ]
  },
  {
   "cell_type": "markdown",
   "id": "99b5430a-dfd4-40af-a116-385653c72a2a",
   "metadata": {},
   "source": [
    "#### Find High Correlated Features"
   ]
  },
  {
   "cell_type": "code",
   "execution_count": 243,
   "id": "b44c1663-1465-45bf-bb50-8a2e1843b973",
   "metadata": {},
   "outputs": [
    {
     "data": {
      "text/plain": [
       "[]"
      ]
     },
     "execution_count": 243,
     "metadata": {},
     "output_type": "execute_result"
    }
   ],
   "source": [
    "threshold = 0.7\n",
    "high_corr_pairs = []\n",
    "\n",
    "for i in range(len(corr_matrix.columns)):\n",
    "    for j in range(i + 1, len(corr_matrix.columns)):\n",
    "        if abs(corr_matrix.iloc[i, j]) >= threshold:\n",
    "            high_corr_pairs.append((corr_matrix.columns[i], corr_matrix.columns[j], corr_matrix.iloc[i, j]))\n",
    "\n",
    "high_corr_pairs"
   ]
  },
  {
   "cell_type": "markdown",
   "id": "4fc88a4a-4fd5-482c-b07f-aa033fd1527c",
   "metadata": {},
   "source": [
    "## Pipeline"
   ]
  },
  {
   "cell_type": "markdown",
   "id": "457b1b67-42b9-4e8d-b361-95f799bfcb13",
   "metadata": {},
   "source": [
    "### 11.1. Selected Features"
   ]
  },
  {
   "cell_type": "code",
   "execution_count": 139,
   "id": "cd1231d0-cc78-4294-ba1b-7be315793f69",
   "metadata": {},
   "outputs": [],
   "source": [
    "# feat_list = [\n",
    "#     'saving_dep_aktif_idr_count_na',\n",
    "#     'bucket_dpd',\n",
    "#     'saving_against_sumcaaktif_sumtdaktif_na_na',\n",
    "#     'saving_giro_nonaktif_idr_sum_na',\n",
    "#     'ddhist_trx_credit_count_l30d',\n",
    "#     'saving_tab_aktif_nonidr_sum_na',\n",
    "#     'loan_acct_kpp_count_na',\n",
    "#     'brimo_trx_na_count_l90d',\n",
    "#     'ddhist_trx_debit_count_l90d',\n",
    "#     'transaction_ratio_cocasa_cotrxcred_na_l30d',\n",
    "#     'collection_act_rsch_count_l1m',\n",
    "#     'spending_trx_consumerloans_count_l90d',\n",
    "#     'transaction_diff_cotrxcred_cotrxdeb_na_l30d',\n",
    "#     'ddhist_trend_trxcred_sum_l90d',\n",
    "#     'saving_dep_nonaktif_idr_sum_na',\n",
    "#     'rt_avg_outs_1_3'\n",
    "# ]\n",
    "\n",
    "# len(feat_list)"
   ]
  },
  {
   "cell_type": "markdown",
   "id": "5ea980ce-bb88-4067-bfe2-e8b3eb9a8706",
   "metadata": {},
   "source": [
    "### 11.2. Final Features"
   ]
  },
  {
   "cell_type": "code",
   "execution_count": 90,
   "id": "6d4cf74f-a691-4f80-9833-fa61d50ad778",
   "metadata": {},
   "outputs": [
    {
     "data": {
      "text/plain": [
       "10"
      ]
     },
     "execution_count": 90,
     "metadata": {},
     "output_type": "execute_result"
    }
   ],
   "source": [
    "feat_list = [    \n",
    "    'saving_casatd_aktif_sum_na',\n",
    "    'bucket_dpd',\n",
    "    'ddhist_trx_credit_count_l30d',\n",
    "    # 'loan_acct_kpp_count_na',\n",
    "    'brimo_trx_na_count_l90d',\n",
    "    'ddhist_trx_debit_count_l90d',\n",
    "    'transaction_ratio_cocasa_cotrxcred_na_l30d',\n",
    "    'collection_act_rsch_count_l1m',\n",
    "    'spending_trx_consumerloans_count_l90d',\n",
    "    # 'transaction_diff_cotrxcred_cotrxdeb_na_l30d',\n",
    "    'ddhist_trend_trxcred_sum_l90d',\n",
    "    'rt_avg_outs_1_3'\n",
    "]\n",
    "\n",
    "len(feat_list)"
   ]
  },
  {
   "cell_type": "markdown",
   "id": "71251819-5eed-40de-a138-0a6fbf5d4faa",
   "metadata": {},
   "source": [
    "### 11.3. Fitting"
   ]
  },
  {
   "cell_type": "code",
   "execution_count": 93,
   "id": "be9782e6-67e3-4f6a-b63c-5bc3ea8a2618",
   "metadata": {},
   "outputs": [
    {
     "name": "stdout",
     "output_type": "stream",
     "text": [
      "Gini train = 0.62\n",
      "Gini test = 0.59\n",
      "\n",
      "Current Feat. Len\n",
      "10\n"
     ]
    },
    {
     "data": {
      "text/html": [
       "<div>\n",
       "<style scoped>\n",
       "    .dataframe tbody tr th:only-of-type {\n",
       "        vertical-align: middle;\n",
       "    }\n",
       "\n",
       "    .dataframe tbody tr th {\n",
       "        vertical-align: top;\n",
       "    }\n",
       "\n",
       "    .dataframe thead th {\n",
       "        text-align: right;\n",
       "    }\n",
       "</style>\n",
       "<table border=\"1\" class=\"dataframe\">\n",
       "  <thead>\n",
       "    <tr style=\"text-align: right;\">\n",
       "      <th></th>\n",
       "      <th>Features</th>\n",
       "      <th>Feature Importance</th>\n",
       "    </tr>\n",
       "  </thead>\n",
       "  <tbody>\n",
       "    <tr>\n",
       "      <th>0</th>\n",
       "      <td>bucket_dpd</td>\n",
       "      <td>0.267080</td>\n",
       "    </tr>\n",
       "    <tr>\n",
       "      <th>1</th>\n",
       "      <td>ddhist_trx_credit_count_l30d</td>\n",
       "      <td>0.122863</td>\n",
       "    </tr>\n",
       "    <tr>\n",
       "      <th>2</th>\n",
       "      <td>brimo_trx_na_count_l90d</td>\n",
       "      <td>0.097077</td>\n",
       "    </tr>\n",
       "    <tr>\n",
       "      <th>3</th>\n",
       "      <td>ddhist_trend_trxcred_sum_l90d</td>\n",
       "      <td>0.086268</td>\n",
       "    </tr>\n",
       "    <tr>\n",
       "      <th>4</th>\n",
       "      <td>saving_casatd_aktif_sum_na</td>\n",
       "      <td>0.085387</td>\n",
       "    </tr>\n",
       "    <tr>\n",
       "      <th>5</th>\n",
       "      <td>transaction_ratio_cocasa_cotrxcred_na_l30d</td>\n",
       "      <td>0.074247</td>\n",
       "    </tr>\n",
       "    <tr>\n",
       "      <th>6</th>\n",
       "      <td>spending_trx_consumerloans_count_l90d</td>\n",
       "      <td>0.072324</td>\n",
       "    </tr>\n",
       "    <tr>\n",
       "      <th>7</th>\n",
       "      <td>ddhist_trx_debit_count_l90d</td>\n",
       "      <td>0.071852</td>\n",
       "    </tr>\n",
       "    <tr>\n",
       "      <th>8</th>\n",
       "      <td>collection_act_rsch_count_l1m</td>\n",
       "      <td>0.064435</td>\n",
       "    </tr>\n",
       "    <tr>\n",
       "      <th>9</th>\n",
       "      <td>rt_avg_outs_1_3</td>\n",
       "      <td>0.058468</td>\n",
       "    </tr>\n",
       "  </tbody>\n",
       "</table>\n",
       "</div>"
      ],
      "text/plain": [
       "                                     Features  Feature Importance\n",
       "0                                  bucket_dpd            0.267080\n",
       "1                ddhist_trx_credit_count_l30d            0.122863\n",
       "2                     brimo_trx_na_count_l90d            0.097077\n",
       "3               ddhist_trend_trxcred_sum_l90d            0.086268\n",
       "4                  saving_casatd_aktif_sum_na            0.085387\n",
       "5  transaction_ratio_cocasa_cotrxcred_na_l30d            0.074247\n",
       "6       spending_trx_consumerloans_count_l90d            0.072324\n",
       "7                 ddhist_trx_debit_count_l90d            0.071852\n",
       "8               collection_act_rsch_count_l1m            0.064435\n",
       "9                             rt_avg_outs_1_3            0.058468"
      ]
     },
     "metadata": {},
     "output_type": "display_data"
    },
    {
     "name": "stdout",
     "output_type": "stream",
     "text": [
      "CPU times: user 53.8 s, sys: 680 ms, total: 54.5 s\n",
      "Wall time: 13.2 s\n"
     ]
    }
   ],
   "source": [
    "%%time\n",
    "\n",
    "model = XGBClassifier(\n",
    "    # base_score=0.5,\n",
    "    # importance_type=None,\n",
    "    # interaction_constraints='',\n",
    "    # colsample_bylevel=1,\n",
    "    # colsample_bynode=1,\n",
    "    # colsample_bytree=1,\n",
    "    # enable_categorical=False,\n",
    "    # max_delta_step=2,\n",
    "    max_depth=5, ##\n",
    "    # min_child_weight=3, ##\n",
    "    n_estimators=200, ##\n",
    "    # num_parallel_tree=1,\n",
    "    # scale_pos_weight=1,\n",
    "    # subsample=0.8,\n",
    "    eta=0.09, ##  #learning rate\n",
    "    gamma=0.1, ## #Min loss reduction required to make a further partition on a leaf node\n",
    "    reg_alpha=0.5, ##\n",
    "    reg_lambda=0.5, ##\n",
    "    \n",
    "    random_state=11,\n",
    "    seed=42,\n",
    "    n_jobs=-1,\n",
    "    eval_metric='auc',\n",
    "    predictor='auto',\n",
    "    booster='gbtree',\n",
    "    verbosity=1,\n",
    "    # gpu_id=-1,\n",
    "    # tree_method='gpu_hist'\n",
    ")\n",
    "\n",
    "# model.fit(train[feat_list], train[flag])\n",
    "\n",
    "# corr_threshold = 0.7\n",
    "final_feat_list = feature_selection(train, test, model, feat_list, len_feat=10)\n",
    "# final_feat_list = corr_selection(train, test, model, feat_list, corr_threshold)\n",
    "\n",
    "# feat_list, coefficients = model_pipeline(train, test, model, feat_list, corr_threshold=corr_threshold, drop=[], sort_cat=False)"
   ]
  },
  {
   "cell_type": "markdown",
   "id": "8e09cf30-97cc-4544-a43e-075327b85f77",
   "metadata": {},
   "source": [
    "## Final Binning"
   ]
  },
  {
   "cell_type": "code",
   "execution_count": 99,
   "id": "f4e88883-246c-41b9-a163-36426172af81",
   "metadata": {},
   "outputs": [
    {
     "data": {
      "text/html": [
       "<div>\n",
       "<style scoped>\n",
       "    .dataframe tbody tr th:only-of-type {\n",
       "        vertical-align: middle;\n",
       "    }\n",
       "\n",
       "    .dataframe tbody tr th {\n",
       "        vertical-align: top;\n",
       "    }\n",
       "\n",
       "    .dataframe thead th {\n",
       "        text-align: right;\n",
       "    }\n",
       "</style>\n",
       "<table border=\"1\" class=\"dataframe\">\n",
       "  <thead>\n",
       "    <tr style=\"text-align: right;\">\n",
       "      <th></th>\n",
       "      <th>min_range</th>\n",
       "      <th>max_range</th>\n",
       "      <th>flag_0</th>\n",
       "      <th>flag_1</th>\n",
       "      <th>population</th>\n",
       "      <th>actual_flag_0</th>\n",
       "      <th>actual_flag_1</th>\n",
       "      <th>mean</th>\n",
       "      <th>cum_flag_1_rate</th>\n",
       "    </tr>\n",
       "    <tr>\n",
       "      <th>decile</th>\n",
       "      <th></th>\n",
       "      <th></th>\n",
       "      <th></th>\n",
       "      <th></th>\n",
       "      <th></th>\n",
       "      <th></th>\n",
       "      <th></th>\n",
       "      <th></th>\n",
       "      <th></th>\n",
       "    </tr>\n",
       "  </thead>\n",
       "  <tbody>\n",
       "    <tr>\n",
       "      <th>1</th>\n",
       "      <td>0.011444</td>\n",
       "      <td>0.059957</td>\n",
       "      <td>0.953841</td>\n",
       "      <td>0.046159</td>\n",
       "      <td>22314</td>\n",
       "      <td>21284</td>\n",
       "      <td>1030</td>\n",
       "      <td>0.017350</td>\n",
       "      <td>0.046159</td>\n",
       "    </tr>\n",
       "    <tr>\n",
       "      <th>2</th>\n",
       "      <td>0.059958</td>\n",
       "      <td>0.096286</td>\n",
       "      <td>0.930175</td>\n",
       "      <td>0.069825</td>\n",
       "      <td>22313</td>\n",
       "      <td>20755</td>\n",
       "      <td>1558</td>\n",
       "      <td>0.026244</td>\n",
       "      <td>0.057992</td>\n",
       "    </tr>\n",
       "    <tr>\n",
       "      <th>3</th>\n",
       "      <td>0.096286</td>\n",
       "      <td>0.149236</td>\n",
       "      <td>0.890467</td>\n",
       "      <td>0.109533</td>\n",
       "      <td>22313</td>\n",
       "      <td>19869</td>\n",
       "      <td>2444</td>\n",
       "      <td>0.041169</td>\n",
       "      <td>0.075172</td>\n",
       "    </tr>\n",
       "    <tr>\n",
       "      <th>4</th>\n",
       "      <td>0.149239</td>\n",
       "      <td>0.187712</td>\n",
       "      <td>0.873129</td>\n",
       "      <td>0.126871</td>\n",
       "      <td>22314</td>\n",
       "      <td>19483</td>\n",
       "      <td>2831</td>\n",
       "      <td>0.047688</td>\n",
       "      <td>0.088097</td>\n",
       "    </tr>\n",
       "    <tr>\n",
       "      <th>5</th>\n",
       "      <td>0.187715</td>\n",
       "      <td>0.236816</td>\n",
       "      <td>0.827410</td>\n",
       "      <td>0.172590</td>\n",
       "      <td>22313</td>\n",
       "      <td>18462</td>\n",
       "      <td>3851</td>\n",
       "      <td>0.064870</td>\n",
       "      <td>0.104995</td>\n",
       "    </tr>\n",
       "    <tr>\n",
       "      <th>6</th>\n",
       "      <td>0.236816</td>\n",
       "      <td>0.301032</td>\n",
       "      <td>0.785596</td>\n",
       "      <td>0.214404</td>\n",
       "      <td>22313</td>\n",
       "      <td>17529</td>\n",
       "      <td>4784</td>\n",
       "      <td>0.080586</td>\n",
       "      <td>0.123230</td>\n",
       "    </tr>\n",
       "    <tr>\n",
       "      <th>7</th>\n",
       "      <td>0.301041</td>\n",
       "      <td>0.392467</td>\n",
       "      <td>0.698127</td>\n",
       "      <td>0.301873</td>\n",
       "      <td>22314</td>\n",
       "      <td>15578</td>\n",
       "      <td>6736</td>\n",
       "      <td>0.113468</td>\n",
       "      <td>0.148751</td>\n",
       "    </tr>\n",
       "    <tr>\n",
       "      <th>8</th>\n",
       "      <td>0.392469</td>\n",
       "      <td>0.491487</td>\n",
       "      <td>0.633846</td>\n",
       "      <td>0.366154</td>\n",
       "      <td>22313</td>\n",
       "      <td>14143</td>\n",
       "      <td>8170</td>\n",
       "      <td>0.137623</td>\n",
       "      <td>0.175926</td>\n",
       "    </tr>\n",
       "    <tr>\n",
       "      <th>9</th>\n",
       "      <td>0.491495</td>\n",
       "      <td>0.841418</td>\n",
       "      <td>0.521400</td>\n",
       "      <td>0.478600</td>\n",
       "      <td>22313</td>\n",
       "      <td>11634</td>\n",
       "      <td>10679</td>\n",
       "      <td>0.179887</td>\n",
       "      <td>0.209556</td>\n",
       "    </tr>\n",
       "    <tr>\n",
       "      <th>10</th>\n",
       "      <td>0.841500</td>\n",
       "      <td>0.999994</td>\n",
       "      <td>0.225509</td>\n",
       "      <td>0.774491</td>\n",
       "      <td>22314</td>\n",
       "      <td>5032</td>\n",
       "      <td>17282</td>\n",
       "      <td>0.291114</td>\n",
       "      <td>0.266051</td>\n",
       "    </tr>\n",
       "  </tbody>\n",
       "</table>\n",
       "</div>"
      ],
      "text/plain": [
       "        min_range  max_range    flag_0    flag_1  population  actual_flag_0  \\\n",
       "decile                                                                        \n",
       "1        0.011444   0.059957  0.953841  0.046159       22314          21284   \n",
       "2        0.059958   0.096286  0.930175  0.069825       22313          20755   \n",
       "3        0.096286   0.149236  0.890467  0.109533       22313          19869   \n",
       "4        0.149239   0.187712  0.873129  0.126871       22314          19483   \n",
       "5        0.187715   0.236816  0.827410  0.172590       22313          18462   \n",
       "6        0.236816   0.301032  0.785596  0.214404       22313          17529   \n",
       "7        0.301041   0.392467  0.698127  0.301873       22314          15578   \n",
       "8        0.392469   0.491487  0.633846  0.366154       22313          14143   \n",
       "9        0.491495   0.841418  0.521400  0.478600       22313          11634   \n",
       "10       0.841500   0.999994  0.225509  0.774491       22314           5032   \n",
       "\n",
       "        actual_flag_1      mean  cum_flag_1_rate  \n",
       "decile                                            \n",
       "1                1030  0.017350         0.046159  \n",
       "2                1558  0.026244         0.057992  \n",
       "3                2444  0.041169         0.075172  \n",
       "4                2831  0.047688         0.088097  \n",
       "5                3851  0.064870         0.104995  \n",
       "6                4784  0.080586         0.123230  \n",
       "7                6736  0.113468         0.148751  \n",
       "8                8170  0.137623         0.175926  \n",
       "9               10679  0.179887         0.209556  \n",
       "10              17282  0.291114         0.266051  "
      ]
     },
     "execution_count": 99,
     "metadata": {},
     "output_type": "execute_result"
    }
   ],
   "source": [
    "decile(xgb_test, flag, ascending=False)"
   ]
  },
  {
   "cell_type": "markdown",
   "id": "783238a4-1cab-4a9d-af5b-70697fbb00a8",
   "metadata": {},
   "source": [
    "## Repayment Score"
   ]
  },
  {
   "cell_type": "code",
   "execution_count": 97,
   "id": "f5762c6d-86e8-459f-90bd-fdb73099824e",
   "metadata": {},
   "outputs": [],
   "source": [
    "xgb_train = train[['predict_proba', 'ds', flag, *feat_list]].copy()\n",
    "xgb_test = test[['predict_proba', 'ds', flag, *feat_list]].copy()"
   ]
  },
  {
   "cell_type": "code",
   "execution_count": 142,
   "id": "ede4cedd-0668-4991-b1bb-5169727b3cd1",
   "metadata": {},
   "outputs": [],
   "source": [
    "xgb_train['logodds'] = xgb_train['predict_proba'].apply(lambda x: np.log((1 - x) / x))\n",
    "xgb_test['logodds'] = xgb_test['predict_proba'].apply(lambda x: np.log((1 - x) / x))"
   ]
  },
  {
   "cell_type": "code",
   "execution_count": 143,
   "id": "f67380d9-e6be-46a3-b28c-c9ef1c8879b7",
   "metadata": {},
   "outputs": [],
   "source": [
    "xgb_data = pd.concat([xgb_train, xgb_test])"
   ]
  },
  {
   "cell_type": "markdown",
   "id": "3a950be3-8c9e-4828-bd0d-1c618ea0094c",
   "metadata": {},
   "source": [
    "### 13.1. Get Min LogOdds"
   ]
  },
  {
   "cell_type": "code",
   "execution_count": 144,
   "id": "ab6efb10-6575-4a06-a455-ea4aa5254657",
   "metadata": {},
   "outputs": [
    {
     "name": "stdout",
     "output_type": "stream",
     "text": [
      "Min LogOdds: -12.071178419908582\n"
     ]
    }
   ],
   "source": [
    "xgb_min_logodds = xgb_test['logodds'].min()\n",
    "print(f'Min LogOdds: {xgb_min_logodds}')"
   ]
  },
  {
   "cell_type": "markdown",
   "id": "955a28f5-8012-4828-a44c-eb7bb37e2930",
   "metadata": {},
   "source": [
    "### 13.2. Get Max LogOdds"
   ]
  },
  {
   "cell_type": "code",
   "execution_count": 146,
   "id": "cfca8391-5d54-4bbd-b069-95429d1e5d23",
   "metadata": {},
   "outputs": [
    {
     "name": "stdout",
     "output_type": "stream",
     "text": [
      "Max LogOdds: 4.458753574657634\n"
     ]
    }
   ],
   "source": [
    "xgb_max_logodds = xgb_test['logodds'].max()\n",
    "print(f'Max LogOdds: {xgb_max_logodds}')"
   ]
  },
  {
   "cell_type": "markdown",
   "id": "80b229e9-ef06-49ca-9e4c-bb7fb780d5d9",
   "metadata": {},
   "source": [
    "### 13.3. Search A and B"
   ]
  },
  {
   "cell_type": "code",
   "execution_count": 147,
   "id": "f019d056-5ac7-43b8-8168-0b0151089e94",
   "metadata": {},
   "outputs": [],
   "source": [
    "# Apply the risk factor formula\n",
    "anchor = 485\n",
    "pdo = 23.063\n",
    "basic_odd = 3\n",
    "intercept = 0\n",
    "\n",
    "# Priority Calc\n",
    "basic_score = anchor + (-pdo / np.log(2)) * (np.log(basic_odd) + intercept)\n",
    "\n",
    "# Get A & B\n",
    "A_xgb = basic_score\n",
    "B_xgb = -pdo/np.log(2)"
   ]
  },
  {
   "cell_type": "markdown",
   "id": "297af659-42f3-400f-8228-16123e49088f",
   "metadata": {},
   "source": [
    "#### Get A"
   ]
  },
  {
   "cell_type": "code",
   "execution_count": 148,
   "id": "15698c58-411b-400c-bc8d-977d9929b1c2",
   "metadata": {},
   "outputs": [
    {
     "name": "stdout",
     "output_type": "stream",
     "text": [
      "A = 448.446009845868\n"
     ]
    }
   ],
   "source": [
    "print(f'A = {A_xgb}')"
   ]
  },
  {
   "cell_type": "markdown",
   "id": "f6c2ed06-c68c-472d-a820-d45b843c6e11",
   "metadata": {},
   "source": [
    "#### Get B"
   ]
  },
  {
   "cell_type": "code",
   "execution_count": 149,
   "id": "9f7b5a31-8ef5-41e5-a537-d9b33e431e31",
   "metadata": {},
   "outputs": [
    {
     "name": "stdout",
     "output_type": "stream",
     "text": [
      "B = -33.272875728022164\n"
     ]
    }
   ],
   "source": [
    "print(f'B = {B_xgb}')"
   ]
  },
  {
   "cell_type": "markdown",
   "id": "0551ed82-d989-4987-8cbf-f3ff6a59c8dd",
   "metadata": {},
   "source": [
    "### 13.4. Score Inference"
   ]
  },
  {
   "cell_type": "code",
   "execution_count": 150,
   "id": "bd2a2b4e-209d-45a1-91e0-1acb00955347",
   "metadata": {},
   "outputs": [],
   "source": [
    "xgb_train['xgb_score'] = A_xgb + B_xgb * xgb_train['logodds']\n",
    "xgb_test['xgb_score'] = A_xgb + B_xgb * xgb_test['logodds']"
   ]
  },
  {
   "cell_type": "code",
   "execution_count": 176,
   "id": "cec3cc84-9c4f-4259-826f-2ea186e0b958",
   "metadata": {},
   "outputs": [
    {
     "data": {
      "text/html": [
       "<div>\n",
       "<style scoped>\n",
       "    .dataframe tbody tr th:only-of-type {\n",
       "        vertical-align: middle;\n",
       "    }\n",
       "\n",
       "    .dataframe tbody tr th {\n",
       "        vertical-align: top;\n",
       "    }\n",
       "\n",
       "    .dataframe thead th {\n",
       "        text-align: right;\n",
       "    }\n",
       "</style>\n",
       "<table border=\"1\" class=\"dataframe\">\n",
       "  <thead>\n",
       "    <tr style=\"text-align: right;\">\n",
       "      <th></th>\n",
       "      <th>min_range</th>\n",
       "      <th>max_range</th>\n",
       "      <th>flag_0</th>\n",
       "      <th>flag_1</th>\n",
       "      <th>population</th>\n",
       "      <th>actual_flag_0</th>\n",
       "      <th>actual_flag_1</th>\n",
       "      <th>mean</th>\n",
       "      <th>cum_flag_1_rate</th>\n",
       "    </tr>\n",
       "    <tr>\n",
       "      <th>decile</th>\n",
       "      <th></th>\n",
       "      <th></th>\n",
       "      <th></th>\n",
       "      <th></th>\n",
       "      <th></th>\n",
       "      <th></th>\n",
       "      <th></th>\n",
       "      <th></th>\n",
       "      <th></th>\n",
       "    </tr>\n",
       "  </thead>\n",
       "  <tbody>\n",
       "    <tr>\n",
       "      <th>1</th>\n",
       "      <td>300.090456</td>\n",
       "      <td>356.869353</td>\n",
       "      <td>0.953841</td>\n",
       "      <td>0.046159</td>\n",
       "      <td>22314</td>\n",
       "      <td>21284</td>\n",
       "      <td>1030</td>\n",
       "      <td>0.017350</td>\n",
       "      <td>0.046159</td>\n",
       "    </tr>\n",
       "    <tr>\n",
       "      <th>2</th>\n",
       "      <td>356.869984</td>\n",
       "      <td>373.941596</td>\n",
       "      <td>0.930175</td>\n",
       "      <td>0.069825</td>\n",
       "      <td>22313</td>\n",
       "      <td>20755</td>\n",
       "      <td>1558</td>\n",
       "      <td>0.026244</td>\n",
       "      <td>0.057992</td>\n",
       "    </tr>\n",
       "    <tr>\n",
       "      <th>3</th>\n",
       "      <td>373.941596</td>\n",
       "      <td>390.531059</td>\n",
       "      <td>0.890467</td>\n",
       "      <td>0.109533</td>\n",
       "      <td>22313</td>\n",
       "      <td>19869</td>\n",
       "      <td>2444</td>\n",
       "      <td>0.041169</td>\n",
       "      <td>0.075172</td>\n",
       "    </tr>\n",
       "    <tr>\n",
       "      <th>4</th>\n",
       "      <td>390.531765</td>\n",
       "      <td>399.702933</td>\n",
       "      <td>0.873129</td>\n",
       "      <td>0.126871</td>\n",
       "      <td>22314</td>\n",
       "      <td>19483</td>\n",
       "      <td>2831</td>\n",
       "      <td>0.047688</td>\n",
       "      <td>0.088097</td>\n",
       "    </tr>\n",
       "    <tr>\n",
       "      <th>5</th>\n",
       "      <td>399.703766</td>\n",
       "      <td>409.509616</td>\n",
       "      <td>0.827410</td>\n",
       "      <td>0.172590</td>\n",
       "      <td>22313</td>\n",
       "      <td>18462</td>\n",
       "      <td>3851</td>\n",
       "      <td>0.064870</td>\n",
       "      <td>0.104995</td>\n",
       "    </tr>\n",
       "    <tr>\n",
       "      <th>6</th>\n",
       "      <td>409.509616</td>\n",
       "      <td>420.417313</td>\n",
       "      <td>0.785596</td>\n",
       "      <td>0.214404</td>\n",
       "      <td>22313</td>\n",
       "      <td>17529</td>\n",
       "      <td>4784</td>\n",
       "      <td>0.080586</td>\n",
       "      <td>0.123230</td>\n",
       "    </tr>\n",
       "    <tr>\n",
       "      <th>7</th>\n",
       "      <td>420.418670</td>\n",
       "      <td>433.907271</td>\n",
       "      <td>0.698127</td>\n",
       "      <td>0.301873</td>\n",
       "      <td>22314</td>\n",
       "      <td>15578</td>\n",
       "      <td>6736</td>\n",
       "      <td>0.113468</td>\n",
       "      <td>0.148751</td>\n",
       "    </tr>\n",
       "    <tr>\n",
       "      <th>8</th>\n",
       "      <td>433.907528</td>\n",
       "      <td>447.312912</td>\n",
       "      <td>0.633846</td>\n",
       "      <td>0.366154</td>\n",
       "      <td>22313</td>\n",
       "      <td>14143</td>\n",
       "      <td>8170</td>\n",
       "      <td>0.137623</td>\n",
       "      <td>0.175926</td>\n",
       "    </tr>\n",
       "    <tr>\n",
       "      <th>9</th>\n",
       "      <td>447.313999</td>\n",
       "      <td>503.972334</td>\n",
       "      <td>0.521400</td>\n",
       "      <td>0.478600</td>\n",
       "      <td>22313</td>\n",
       "      <td>11634</td>\n",
       "      <td>10679</td>\n",
       "      <td>0.179887</td>\n",
       "      <td>0.209556</td>\n",
       "    </tr>\n",
       "    <tr>\n",
       "      <th>10</th>\n",
       "      <td>503.992835</td>\n",
       "      <td>850.088829</td>\n",
       "      <td>0.225509</td>\n",
       "      <td>0.774491</td>\n",
       "      <td>22314</td>\n",
       "      <td>5032</td>\n",
       "      <td>17282</td>\n",
       "      <td>0.291114</td>\n",
       "      <td>0.266051</td>\n",
       "    </tr>\n",
       "  </tbody>\n",
       "</table>\n",
       "</div>"
      ],
      "text/plain": [
       "         min_range   max_range    flag_0    flag_1  population  actual_flag_0  \\\n",
       "decile                                                                          \n",
       "1       300.090456  356.869353  0.953841  0.046159       22314          21284   \n",
       "2       356.869984  373.941596  0.930175  0.069825       22313          20755   \n",
       "3       373.941596  390.531059  0.890467  0.109533       22313          19869   \n",
       "4       390.531765  399.702933  0.873129  0.126871       22314          19483   \n",
       "5       399.703766  409.509616  0.827410  0.172590       22313          18462   \n",
       "6       409.509616  420.417313  0.785596  0.214404       22313          17529   \n",
       "7       420.418670  433.907271  0.698127  0.301873       22314          15578   \n",
       "8       433.907528  447.312912  0.633846  0.366154       22313          14143   \n",
       "9       447.313999  503.972334  0.521400  0.478600       22313          11634   \n",
       "10      503.992835  850.088829  0.225509  0.774491       22314           5032   \n",
       "\n",
       "        actual_flag_1      mean  cum_flag_1_rate  \n",
       "decile                                            \n",
       "1                1030  0.017350         0.046159  \n",
       "2                1558  0.026244         0.057992  \n",
       "3                2444  0.041169         0.075172  \n",
       "4                2831  0.047688         0.088097  \n",
       "5                3851  0.064870         0.104995  \n",
       "6                4784  0.080586         0.123230  \n",
       "7                6736  0.113468         0.148751  \n",
       "8                8170  0.137623         0.175926  \n",
       "9               10679  0.179887         0.209556  \n",
       "10              17282  0.291114         0.266051  "
      ]
     },
     "execution_count": 176,
     "metadata": {},
     "output_type": "execute_result"
    }
   ],
   "source": [
    "decile(xgb_test, flag, ascending=False, pred='xgb_score')"
   ]
  },
  {
   "cell_type": "code",
   "execution_count": 177,
   "id": "78493ecb-6444-4130-a139-145e5984c755",
   "metadata": {},
   "outputs": [
    {
     "data": {
      "text/plain": [
       "<Axes: >"
      ]
     },
     "execution_count": 177,
     "metadata": {},
     "output_type": "execute_result"
    },
    {
     "data": {
      "image/png": "[encoded data removed]",
      "text/plain": [
       "<Figure size 640x480 with 1 Axes>"
      ]
     },
     "metadata": {},
     "output_type": "display_data"
    }
   ],
   "source": [
    "xgb_test['predict_proba'].hist()"
   ]
  },
  {
   "cell_type": "code",
   "execution_count": 178,
   "id": "4e8e2804-7e33-4026-a4e1-e34ddbcace61",
   "metadata": {},
   "outputs": [
    {
     "data": {
      "text/plain": [
       "<Axes: >"
      ]
     },
     "execution_count": 178,
     "metadata": {},
     "output_type": "execute_result"
    },
    {
     "data": {
      "image/png": "[encoded data removed]",
      "text/plain": [
       "<Figure size 640x480 with 1 Axes>"
      ]
     },
     "metadata": {},
     "output_type": "display_data"
    }
   ],
   "source": [
    "xgb_test['xgb_score'].hist()"
   ]
  },
  {
   "cell_type": "markdown",
   "id": "f3b32346-0583-4142-bdf7-e8183b521ed7",
   "metadata": {},
   "source": [
    "### 13.5. Define Income"
   ]
  },
  {
   "cell_type": "code",
   "execution_count": 152,
   "id": "03b138c7-c861-4a52-9c24-eedb29825e68",
   "metadata": {},
   "outputs": [],
   "source": [
    "def create_equal_frequency_bins(df, score_column, num_bins=3, ascending=True):\n",
    "    \"\"\"\n",
    "    Create equal-frequency bins from a specified column in the DataFrame and return aggregated min_range, max_range, and population for each bin.\n",
    "\n",
    "    Parameters:\n",
    "    - df (pd.DataFrame): The DataFrame containing the data.\n",
    "    - score_column (str): The column to bin.\n",
    "    - num_bins (int): The number of bins to create. Default is 3.\n",
    "    - ascending (bool): If True, the result DataFrame will be sorted in ascending order based on min_range. If False, it will be sorted in descending order. Default is True.\n",
    "\n",
    "    Returns:\n",
    "    - pd.DataFrame: A DataFrame with the min_range, max_range, and population for each bin.\n",
    "    \"\"\"\n",
    "    # Ensure the score_column is numeric\n",
    "    df[score_column] = pd.to_numeric(df[score_column], errors='coerce')\n",
    "    \n",
    "    # Drop rows with NaN values in score_column\n",
    "    df = df.dropna(subset=[score_column])\n",
    "    \n",
    "    # Calculate bin edges for equal-frequency bins using quantiles\n",
    "    quantiles = np.linspace(0, 1, num_bins + 1)\n",
    "    bin_edges = df[score_column].quantile(quantiles).values\n",
    "    \n",
    "    # Create bins\n",
    "    df['bin'] = pd.cut(df[score_column], bins=bin_edges, include_lowest=True, right=True)\n",
    "    \n",
    "    # Aggregate min_range, max_range, and population for each bin\n",
    "    bin_ranges = df.groupby('bin')[score_column].agg(['min', 'max', 'size']).reset_index()\n",
    "    bin_ranges.columns = ['bin', 'min_range', 'max_range', 'population']\n",
    "    \n",
    "    # Drop the 'bin' column and sort the DataFrame by min_range\n",
    "    bin_ranges = bin_ranges.drop(columns='bin')\n",
    "    bin_ranges = bin_ranges.sort_values(by='min_range', ascending=ascending).reset_index(drop=True)\n",
    "    \n",
    "    return bin_ranges"
   ]
  },
  {
   "cell_type": "code",
   "execution_count": 153,
   "id": "55dd7f01-18ca-4721-a72d-9697331bc9e8",
   "metadata": {},
   "outputs": [],
   "source": [
    "df_income = pd.concat([xgb_train, xgb_test])\n",
    "df_income = pd.concat([df_income, df[['ddhist_income_payroll_avgsum_last3month', 'ddhist_trx_credit_avgsum_last3month']]])"
   ]
  },
  {
   "cell_type": "code",
   "execution_count": 154,
   "id": "6728013b-4f5e-4e07-a311-ff39171d2066",
   "metadata": {},
   "outputs": [],
   "source": [
    "df_income['income'] = df_income['ddhist_income_payroll_avgsum_last3month'].fillna(df['ddhist_trx_credit_avgsum_last3month'])\n",
    "df_income['income'] = df_income['income'].fillna(3000000)\n",
    "df_income['income'] = np.where(df_income['income'].isna() | df_income['income'] == 0, 3000000, df_income['income'])"
   ]
  },
  {
   "cell_type": "markdown",
   "id": "3fde4902-8e06-4dd2-837f-b93c8f8cbe4a",
   "metadata": {},
   "source": [
    "#### Income < 3 Mio"
   ]
  },
  {
   "cell_type": "code",
   "execution_count": 161,
   "id": "e5ce6dd8-ac67-46a0-bd4b-43877c67b2e6",
   "metadata": {},
   "outputs": [
    {
     "data": {
      "text/html": [
       "<div>\n",
       "<style scoped>\n",
       "    .dataframe tbody tr th:only-of-type {\n",
       "        vertical-align: middle;\n",
       "    }\n",
       "\n",
       "    .dataframe tbody tr th {\n",
       "        vertical-align: top;\n",
       "    }\n",
       "\n",
       "    .dataframe thead th {\n",
       "        text-align: right;\n",
       "    }\n",
       "</style>\n",
       "<table border=\"1\" class=\"dataframe\">\n",
       "  <thead>\n",
       "    <tr style=\"text-align: right;\">\n",
       "      <th></th>\n",
       "      <th>min_range</th>\n",
       "      <th>max_range</th>\n",
       "      <th>population</th>\n",
       "    </tr>\n",
       "  </thead>\n",
       "  <tbody>\n",
       "    <tr>\n",
       "      <th>0</th>\n",
       "      <td>300.090456</td>\n",
       "      <td>381.295668</td>\n",
       "      <td>55101</td>\n",
       "    </tr>\n",
       "    <tr>\n",
       "      <th>1</th>\n",
       "      <td>381.295846</td>\n",
       "      <td>415.405976</td>\n",
       "      <td>55102</td>\n",
       "    </tr>\n",
       "    <tr>\n",
       "      <th>2</th>\n",
       "      <td>415.406106</td>\n",
       "      <td>822.799942</td>\n",
       "      <td>55098</td>\n",
       "    </tr>\n",
       "  </tbody>\n",
       "</table>\n",
       "</div>"
      ],
      "text/plain": [
       "    min_range   max_range  population\n",
       "0  300.090456  381.295668       55101\n",
       "1  381.295846  415.405976       55102\n",
       "2  415.406106  822.799942       55098"
      ]
     },
     "execution_count": 161,
     "metadata": {},
     "output_type": "execute_result"
    }
   ],
   "source": [
    "create_equal_frequency_bins(df_income[df_income['income'] < 3000000], score_column='xgb_score', num_bins=3)"
   ]
  },
  {
   "cell_type": "markdown",
   "id": "a58628f7-ae04-426c-93d4-d4f7b131e8e9",
   "metadata": {},
   "source": [
    "#### Income >= 3 Mio and < 5 Mio"
   ]
  },
  {
   "cell_type": "code",
   "execution_count": 162,
   "id": "25f15848-7ad6-4c16-aa99-67bcf3b19277",
   "metadata": {},
   "outputs": [
    {
     "data": {
      "text/html": [
       "<div>\n",
       "<style scoped>\n",
       "    .dataframe tbody tr th:only-of-type {\n",
       "        vertical-align: middle;\n",
       "    }\n",
       "\n",
       "    .dataframe tbody tr th {\n",
       "        vertical-align: top;\n",
       "    }\n",
       "\n",
       "    .dataframe thead th {\n",
       "        text-align: right;\n",
       "    }\n",
       "</style>\n",
       "<table border=\"1\" class=\"dataframe\">\n",
       "  <thead>\n",
       "    <tr style=\"text-align: right;\">\n",
       "      <th></th>\n",
       "      <th>min_range</th>\n",
       "      <th>max_range</th>\n",
       "      <th>population</th>\n",
       "    </tr>\n",
       "  </thead>\n",
       "  <tbody>\n",
       "    <tr>\n",
       "      <th>0</th>\n",
       "      <td>306.233975</td>\n",
       "      <td>396.653508</td>\n",
       "      <td>79947</td>\n",
       "    </tr>\n",
       "    <tr>\n",
       "      <th>1</th>\n",
       "      <td>396.653708</td>\n",
       "      <td>432.798865</td>\n",
       "      <td>78435</td>\n",
       "    </tr>\n",
       "    <tr>\n",
       "      <th>2</th>\n",
       "      <td>432.799519</td>\n",
       "      <td>832.678728</td>\n",
       "      <td>78423</td>\n",
       "    </tr>\n",
       "  </tbody>\n",
       "</table>\n",
       "</div>"
      ],
      "text/plain": [
       "    min_range   max_range  population\n",
       "0  306.233975  396.653508       79947\n",
       "1  396.653708  432.798865       78435\n",
       "2  432.799519  832.678728       78423"
      ]
     },
     "execution_count": 162,
     "metadata": {},
     "output_type": "execute_result"
    }
   ],
   "source": [
    "create_equal_frequency_bins(df_income[(df_income['income'] >= 3000000) & (df_income['income'] < 5000000)], score_column='xgb_score', num_bins=3)"
   ]
  },
  {
   "cell_type": "markdown",
   "id": "dc9cf213-9a6d-4d75-9eec-91cc6f59ed34",
   "metadata": {},
   "source": [
    "#### Income >= 5 Mio and < 10 Mio"
   ]
  },
  {
   "cell_type": "code",
   "execution_count": 163,
   "id": "9efe960e-7ec9-4ed6-8a6a-84f38c32ad4e",
   "metadata": {},
   "outputs": [
    {
     "data": {
      "text/html": [
       "<div>\n",
       "<style scoped>\n",
       "    .dataframe tbody tr th:only-of-type {\n",
       "        vertical-align: middle;\n",
       "    }\n",
       "\n",
       "    .dataframe tbody tr th {\n",
       "        vertical-align: top;\n",
       "    }\n",
       "\n",
       "    .dataframe thead th {\n",
       "        text-align: right;\n",
       "    }\n",
       "</style>\n",
       "<table border=\"1\" class=\"dataframe\">\n",
       "  <thead>\n",
       "    <tr style=\"text-align: right;\">\n",
       "      <th></th>\n",
       "      <th>min_range</th>\n",
       "      <th>max_range</th>\n",
       "      <th>population</th>\n",
       "    </tr>\n",
       "  </thead>\n",
       "  <tbody>\n",
       "    <tr>\n",
       "      <th>0</th>\n",
       "      <td>300.348274</td>\n",
       "      <td>401.454688</td>\n",
       "      <td>20846</td>\n",
       "    </tr>\n",
       "    <tr>\n",
       "      <th>1</th>\n",
       "      <td>401.455223</td>\n",
       "      <td>433.889749</td>\n",
       "      <td>20845</td>\n",
       "    </tr>\n",
       "    <tr>\n",
       "      <th>2</th>\n",
       "      <td>433.890547</td>\n",
       "      <td>850.088829</td>\n",
       "      <td>20845</td>\n",
       "    </tr>\n",
       "  </tbody>\n",
       "</table>\n",
       "</div>"
      ],
      "text/plain": [
       "    min_range   max_range  population\n",
       "0  300.348274  401.454688       20846\n",
       "1  401.455223  433.889749       20845\n",
       "2  433.890547  850.088829       20845"
      ]
     },
     "execution_count": 163,
     "metadata": {},
     "output_type": "execute_result"
    }
   ],
   "source": [
    "create_equal_frequency_bins(df_income[(df_income['income'] >= 5000000) & (df_income['income'] < 10000000)], score_column='xgb_score', num_bins=3)"
   ]
  },
  {
   "cell_type": "markdown",
   "id": "a7656ec0-8ef2-4170-b458-181e811674fe",
   "metadata": {},
   "source": [
    "#### < 10 Mio (combined all under 10 Mio)"
   ]
  },
  {
   "cell_type": "code",
   "execution_count": 164,
   "id": "a45a1c7c-b960-4ac9-9050-cc0b9ba0d0b0",
   "metadata": {},
   "outputs": [
    {
     "data": {
      "text/html": [
       "<div>\n",
       "<style scoped>\n",
       "    .dataframe tbody tr th:only-of-type {\n",
       "        vertical-align: middle;\n",
       "    }\n",
       "\n",
       "    .dataframe tbody tr th {\n",
       "        vertical-align: top;\n",
       "    }\n",
       "\n",
       "    .dataframe thead th {\n",
       "        text-align: right;\n",
       "    }\n",
       "</style>\n",
       "<table border=\"1\" class=\"dataframe\">\n",
       "  <thead>\n",
       "    <tr style=\"text-align: right;\">\n",
       "      <th></th>\n",
       "      <th>min_range</th>\n",
       "      <th>max_range</th>\n",
       "      <th>population</th>\n",
       "    </tr>\n",
       "  </thead>\n",
       "  <tbody>\n",
       "    <tr>\n",
       "      <th>0</th>\n",
       "      <td>300.090456</td>\n",
       "      <td>392.755098</td>\n",
       "      <td>154890</td>\n",
       "    </tr>\n",
       "    <tr>\n",
       "      <th>1</th>\n",
       "      <td>392.755113</td>\n",
       "      <td>427.342048</td>\n",
       "      <td>154871</td>\n",
       "    </tr>\n",
       "    <tr>\n",
       "      <th>2</th>\n",
       "      <td>427.342083</td>\n",
       "      <td>850.088829</td>\n",
       "      <td>154881</td>\n",
       "    </tr>\n",
       "  </tbody>\n",
       "</table>\n",
       "</div>"
      ],
      "text/plain": [
       "    min_range   max_range  population\n",
       "0  300.090456  392.755098      154890\n",
       "1  392.755113  427.342048      154871\n",
       "2  427.342083  850.088829      154881"
      ]
     },
     "execution_count": 164,
     "metadata": {},
     "output_type": "execute_result"
    }
   ],
   "source": [
    "create_equal_frequency_bins(df_income[(df_income['income'] < 10000000)], score_column='xgb_score', num_bins=3)"
   ]
  },
  {
   "cell_type": "markdown",
   "id": "1d0c9edc-863d-4b00-88d5-ccee74c0ee1a",
   "metadata": {},
   "source": [
    "#### Income >= 10 Mio and < 20 Mio"
   ]
  },
  {
   "cell_type": "code",
   "execution_count": 165,
   "id": "e4596234-e2ab-4149-a063-745060a25a58",
   "metadata": {},
   "outputs": [
    {
     "data": {
      "text/html": [
       "<div>\n",
       "<style scoped>\n",
       "    .dataframe tbody tr th:only-of-type {\n",
       "        vertical-align: middle;\n",
       "    }\n",
       "\n",
       "    .dataframe tbody tr th {\n",
       "        vertical-align: top;\n",
       "    }\n",
       "\n",
       "    .dataframe thead th {\n",
       "        text-align: right;\n",
       "    }\n",
       "</style>\n",
       "<table border=\"1\" class=\"dataframe\">\n",
       "  <thead>\n",
       "    <tr style=\"text-align: right;\">\n",
       "      <th></th>\n",
       "      <th>min_range</th>\n",
       "      <th>max_range</th>\n",
       "      <th>population</th>\n",
       "    </tr>\n",
       "  </thead>\n",
       "  <tbody>\n",
       "    <tr>\n",
       "      <th>0</th>\n",
       "      <td>307.929592</td>\n",
       "      <td>405.858231</td>\n",
       "      <td>16934</td>\n",
       "    </tr>\n",
       "    <tr>\n",
       "      <th>1</th>\n",
       "      <td>405.858283</td>\n",
       "      <td>434.706204</td>\n",
       "      <td>16933</td>\n",
       "    </tr>\n",
       "    <tr>\n",
       "      <th>2</th>\n",
       "      <td>434.706709</td>\n",
       "      <td>844.370841</td>\n",
       "      <td>16934</td>\n",
       "    </tr>\n",
       "  </tbody>\n",
       "</table>\n",
       "</div>"
      ],
      "text/plain": [
       "    min_range   max_range  population\n",
       "0  307.929592  405.858231       16934\n",
       "1  405.858283  434.706204       16933\n",
       "2  434.706709  844.370841       16934"
      ]
     },
     "execution_count": 165,
     "metadata": {},
     "output_type": "execute_result"
    }
   ],
   "source": [
    "create_equal_frequency_bins(df_income[(df_income['income'] >= 10000000) & (df_income['income'] < 20000000)], score_column='xgb_score', num_bins=3)"
   ]
  },
  {
   "cell_type": "markdown",
   "id": "d17789e2-1ac4-4609-ba63-7c8af1a370cb",
   "metadata": {},
   "source": [
    "#### Income >= 20 Mio"
   ]
  },
  {
   "cell_type": "code",
   "execution_count": 166,
   "id": "794e6d4e-6f2c-4aa7-a102-40b77e92e331",
   "metadata": {},
   "outputs": [
    {
     "data": {
      "text/html": [
       "<div>\n",
       "<style scoped>\n",
       "    .dataframe tbody tr th:only-of-type {\n",
       "        vertical-align: middle;\n",
       "    }\n",
       "\n",
       "    .dataframe tbody tr th {\n",
       "        vertical-align: top;\n",
       "    }\n",
       "\n",
       "    .dataframe thead th {\n",
       "        text-align: right;\n",
       "    }\n",
       "</style>\n",
       "<table border=\"1\" class=\"dataframe\">\n",
       "  <thead>\n",
       "    <tr style=\"text-align: right;\">\n",
       "      <th></th>\n",
       "      <th>min_range</th>\n",
       "      <th>max_range</th>\n",
       "      <th>population</th>\n",
       "    </tr>\n",
       "  </thead>\n",
       "  <tbody>\n",
       "    <tr>\n",
       "      <th>0</th>\n",
       "      <td>307.98341</td>\n",
       "      <td>411.189228</td>\n",
       "      <td>24546</td>\n",
       "    </tr>\n",
       "    <tr>\n",
       "      <th>1</th>\n",
       "      <td>411.19192</td>\n",
       "      <td>437.692467</td>\n",
       "      <td>24545</td>\n",
       "    </tr>\n",
       "    <tr>\n",
       "      <th>2</th>\n",
       "      <td>437.69254</td>\n",
       "      <td>841.573134</td>\n",
       "      <td>24546</td>\n",
       "    </tr>\n",
       "  </tbody>\n",
       "</table>\n",
       "</div>"
      ],
      "text/plain": [
       "   min_range   max_range  population\n",
       "0  307.98341  411.189228       24546\n",
       "1  411.19192  437.692467       24545\n",
       "2  437.69254  841.573134       24546"
      ]
     },
     "execution_count": 166,
     "metadata": {},
     "output_type": "execute_result"
    }
   ],
   "source": [
    "create_equal_frequency_bins(df_income[(df_income['income'] >= 20000000)], score_column='xgb_score', num_bins=3)"
   ]
  },
  {
   "cell_type": "markdown",
   "id": "2afc35c7-9a32-4a35-83e2-809a539a872b",
   "metadata": {},
   "source": [
    "## Sampling"
   ]
  },
  {
   "cell_type": "code",
   "execution_count": 5,
   "id": "b2da86e5-6aa1-4957-a62d-b8310d45fcda",
   "metadata": {},
   "outputs": [],
   "source": [
    "df_ceria = pd.read_parquet(\"dataset_model_v4.parquet\")"
   ]
  },
  {
   "cell_type": "code",
   "execution_count": 6,
   "id": "d42398c0-cb7b-477c-8c78-a374216a98af",
   "metadata": {},
   "outputs": [
    {
     "data": {
      "text/plain": [
       "(229740, 739)"
      ]
     },
     "execution_count": 6,
     "metadata": {},
     "output_type": "execute_result"
    }
   ],
   "source": [
    "df_ceria['ds'] = df_ceria['ds'].str[:6]\n",
    "df_ceria['flag_bad'] = df_ceria['flag_target'].astype('int')\n",
    "df_ceria['porto'] = 'CERIA'\n",
    "df_ceria['bucket_dpd'] = df_ceria['bucket']\n",
    "# df_ceria['mob'] = df_ceria['mob_ceria']\n",
    "df_ceria['rt_avg_outs_3_6'] = df_ceria['max_outstanding_l3m'].astype('float') / df_ceria['max_outstanding_l6m'].astype('float')\n",
    "df_ceria['rt_avg_outs_1_3'] = df_ceria['max_outstanding_l1m'].astype('float') / df_ceria['max_outstanding_l3m'].astype('float')\n",
    "# df_ceria['collection_act_ptp_count_l6m'] = df_ceria['collection_ptp_count_l6m']\n",
    "# df_ceria['collection_act_rsch_count_l1m'] = df_ceria['collection_act_rsch_count_l1m']\n",
    "df_ceria.shape"
   ]
  },
  {
   "cell_type": "code",
   "execution_count": 7,
   "id": "b990a357-8109-46ba-89e6-ede57b4fc7d9",
   "metadata": {},
   "outputs": [
    {
     "data": {
      "text/plain": [
       "(359340, 1093)"
      ]
     },
     "execution_count": 7,
     "metadata": {},
     "output_type": "execute_result"
    }
   ],
   "source": [
    "df_cc = pd.read_parquet(\"dataset_cc_v4.parquet\")\n",
    "df_cc = df_cc[df_cc['cm_block_code'] != 'M']\n",
    "df_cc['flag_bad'] = df_cc['roll'].astype('int')\n",
    "df_cc['porto'] = 'CC'\n",
    "df_cc.shape"
   ]
  },
  {
   "cell_type": "code",
   "execution_count": 8,
   "id": "221755b3-a96d-46f5-b5fe-fc98b0cc4a72",
   "metadata": {},
   "outputs": [],
   "source": [
    "ceria_cols = df_ceria.columns.to_list()\n",
    "cc_cols = df_cc.columns.to_list()"
   ]
  },
  {
   "cell_type": "code",
   "execution_count": 9,
   "id": "ba950a1a-584c-4fc2-9dd5-25efe374e42c",
   "metadata": {},
   "outputs": [
    {
     "data": {
      "text/plain": [
       "598"
      ]
     },
     "execution_count": 9,
     "metadata": {},
     "output_type": "execute_result"
    }
   ],
   "source": [
    "cols_exist = [i for i in cc_cols if i in ceria_cols]\n",
    "len(cols_exist)"
   ]
  },
  {
   "cell_type": "code",
   "execution_count": 10,
   "id": "34d88abc-2483-433e-9628-7f45e054e5cb",
   "metadata": {},
   "outputs": [
    {
     "data": {
      "text/plain": [
       "(589080, 598)"
      ]
     },
     "execution_count": 10,
     "metadata": {},
     "output_type": "execute_result"
    }
   ],
   "source": [
    "df = pd.concat([df_ceria[cols_exist], df_cc[cols_exist]])\n",
    "df.shape"
   ]
  },
  {
   "cell_type": "code",
   "execution_count": 11,
   "id": "9536e33c-b678-444d-bf2c-71be4064f5d6",
   "metadata": {},
   "outputs": [],
   "source": [
    "df['flag_bad'] = np.where(df['flag_bad'] == 1, 0, 1)"
   ]
  },
  {
   "cell_type": "code",
   "execution_count": 8,
   "id": "70221e59-b164-46a7-a3eb-2793a675cad1",
   "metadata": {},
   "outputs": [
    {
     "data": {
      "text/plain": [
       "22"
      ]
     },
     "execution_count": 8,
     "metadata": {},
     "output_type": "execute_result"
    }
   ],
   "source": [
    "# CERIA\n",
    "feat_ceria = [\n",
    "    'min_amt_last_due_installment_l1m', \n",
    "    'datediff_from_last_trx', \n",
    "    'current_util', \n",
    "    'min_amt_repayment_l3m', \n",
    "    'collection_act_request_count_l1m', \n",
    "    'transaction_ratio_sumcasa_sumtrxdeb_na_l90d', \n",
    "    'ddhist_income_payroll_sum_last1month',\n",
    "    'ddhist_trx_credit_debit_sum_last1month', \n",
    "    'max_amt_last_due_repayment_l6m',\n",
    "]\n",
    "\n",
    "# CC\n",
    "feat_cc = [\n",
    "    'month_since_30plus', \n",
    "    'month_since_90plus', \n",
    "    'month_since_pay', \n",
    "    'rt_rtlbal_l1m', \n",
    "    'n_overlimit_l6m',\n",
    "    'mob',\n",
    "    'rt_xplus_l12m', \n",
    "    'rt_avg_outs_1_3', \n",
    "    'collection_act_ptp_count_l6m', \n",
    "    'n_pay_l12m', \n",
    "    'rt_avg_outs_3_6',\n",
    "    'rt_rtlnonoversea_trx_l3m', \n",
    "    'collection_act_rsch_count_l1m',\n",
    "]\n",
    "\n",
    "feat_list = list(set(feat_ceria + feat_cc))\n",
    "len(feat_list)"
   ]
  },
  {
   "cell_type": "code",
   "execution_count": 75,
   "id": "c3bee2d1-a3b2-4a52-bf82-d6082089ee49",
   "metadata": {},
   "outputs": [
    {
     "data": {
      "text/plain": [
       "7"
      ]
     },
     "execution_count": 75,
     "metadata": {},
     "output_type": "execute_result"
    }
   ],
   "source": [
    "exist_feat = [i for i in feat_list if i in ceria_cols and i in cc_cols]\n",
    "len(exist_feat)"
   ]
  },
  {
   "cell_type": "code",
   "execution_count": 76,
   "id": "00a084e0-62d1-4f07-8945-934fc45da96c",
   "metadata": {},
   "outputs": [
    {
     "data": {
      "text/plain": [
       "['collection_act_ptp_count_l6m',\n",
       " 'rt_avg_outs_3_6',\n",
       " 'rt_avg_outs_1_3',\n",
       " 'collection_act_rsch_count_l1m',\n",
       " 'ddhist_trx_credit_debit_sum_last1month',\n",
       " 'ddhist_income_payroll_sum_last1month',\n",
       " 'transaction_ratio_sumcasa_sumtrxdeb_na_l90d']"
      ]
     },
     "execution_count": 76,
     "metadata": {},
     "output_type": "execute_result"
    }
   ],
   "source": [
    "exist_feat"
   ]
  },
  {
   "cell_type": "code",
   "execution_count": 77,
   "id": "f937638a-c1be-49bd-976d-1521cab1bbbe",
   "metadata": {},
   "outputs": [
    {
     "data": {
      "text/plain": [
       "17"
      ]
     },
     "execution_count": 77,
     "metadata": {},
     "output_type": "execute_result"
    }
   ],
   "source": [
    "not_exist = [\n",
    "    'month_since_30plus', \n",
    "    'collection_act_request_count_l1m', \n",
    "    'rt_rtlnonoversea_trx_l3m', \n",
    "    'rt_xplus_l12m', \n",
    "    'datediff_from_last_trx', \n",
    "    'n_pay_l12m', \n",
    "    'rt_avg_outs_1_3', \n",
    "    'n_overlimit_l6m', \n",
    "    'month_since_90plus', \n",
    "    'current_util', \n",
    "    'min_amt_last_due_installment_l1m', \n",
    "    'min_amt_repayment_l3m', \n",
    "    'max_amt_last_due_repayment_l6m', \n",
    "    'month_since_pay', \n",
    "    'rt_avg_outs_3_6', \n",
    "    'mob', \n",
    "    'rt_rtlbal_l1m'\n",
    "]\n",
    "\n",
    "len(not_exist)"
   ]
  }
 ],
 "metadata": {
  "kernelspec": {
   "display_name": "Python 3 (ipykernel)",
   "language": "python",
   "name": "python3"
  },
  "language_info": {
   "codemirror_mode": {
    "name": "ipython",
    "version": 3
   },
   "file_extension": ".py",
   "mimetype": "text/x-python",
   "name": "python",
   "nbconvert_exporter": "python",
   "pygments_lexer": "ipython3",
   "version": "3.11.0"
  }
 },
 "nbformat": 4,
 "nbformat_minor": 5
}
